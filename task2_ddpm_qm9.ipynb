{
  "cells": [
    {
      "cell_type": "markdown",
      "metadata": {
        "id": "7ZXhd8FdUt2C"
      },
      "source": [
        "# Task 2: Graph Generation on QM9 Dataset with DDPM\n",
        "\n",
        "\n",
        "This notebook is adapted from the National University of Singapore CS5284 Graph Machine Learning course, the original tutorial code can be found at [here](https://github.com/xbresson/CS5284_2024/blob/main/codes/11_Graph_Generation/code06_solution.ipynb).\n",
        "\n",
        "> Some sections are adapted from the generation of GPT-4o and o3-mini models."
      ]
    },
    {
      "cell_type": "code",
      "execution_count": null,
      "metadata": {
        "colab": {
          "base_uri": "https://localhost:8080/"
        },
        "id": "Gvca_z_VUt2J",
        "outputId": "e069bc04-d783-4d56-a757-9663e7a373ab"
      },
      "outputs": [
        {
          "name": "stdout",
          "output_type": "stream",
          "text": [
            "Mounted at /content/drive/\n",
            "/content/drive/MyDrive/gt_v2\n",
            "Collecting dgl==1.0.0\n",
            "  Downloading dgl-1.0.0-cp311-cp311-manylinux1_x86_64.whl.metadata (530 bytes)\n",
            "Requirement already satisfied: numpy>=1.14.0 in /usr/local/lib/python3.11/dist-packages (from dgl==1.0.0) (1.26.4)\n",
            "Requirement already satisfied: scipy>=1.1.0 in /usr/local/lib/python3.11/dist-packages (from dgl==1.0.0) (1.13.1)\n",
            "Requirement already satisfied: networkx>=2.1 in /usr/local/lib/python3.11/dist-packages (from dgl==1.0.0) (3.4.2)\n",
            "Requirement already satisfied: requests>=2.19.0 in /usr/local/lib/python3.11/dist-packages (from dgl==1.0.0) (2.32.3)\n",
            "Requirement already satisfied: tqdm in /usr/local/lib/python3.11/dist-packages (from dgl==1.0.0) (4.67.1)\n",
            "Requirement already satisfied: psutil>=5.8.0 in /usr/local/lib/python3.11/dist-packages (from dgl==1.0.0) (5.9.5)\n",
            "Requirement already satisfied: charset-normalizer<4,>=2 in /usr/local/lib/python3.11/dist-packages (from requests>=2.19.0->dgl==1.0.0) (3.4.1)\n",
            "Requirement already satisfied: idna<4,>=2.5 in /usr/local/lib/python3.11/dist-packages (from requests>=2.19.0->dgl==1.0.0) (3.10)\n",
            "Requirement already satisfied: urllib3<3,>=1.21.1 in /usr/local/lib/python3.11/dist-packages (from requests>=2.19.0->dgl==1.0.0) (2.3.0)\n",
            "Requirement already satisfied: certifi>=2017.4.17 in /usr/local/lib/python3.11/dist-packages (from requests>=2.19.0->dgl==1.0.0) (2024.12.14)\n",
            "Downloading dgl-1.0.0-cp311-cp311-manylinux1_x86_64.whl (5.4 MB)\n",
            "\u001b[2K   \u001b[90m━━━━━━━━━━━━━━━━━━━━━━━━━━━━━━━━━━━━━━━━\u001b[0m \u001b[32m5.4/5.4 MB\u001b[0m \u001b[31m40.1 MB/s\u001b[0m eta \u001b[36m0:00:00\u001b[0m\n",
            "\u001b[?25hInstalling collected packages: dgl\n",
            "Successfully installed dgl-1.0.0\n",
            "Collecting rdkit==2023.09.6\n",
            "  Downloading rdkit-2023.9.6-cp311-cp311-manylinux_2_17_x86_64.manylinux2014_x86_64.whl.metadata (3.9 kB)\n",
            "Requirement already satisfied: numpy in /usr/local/lib/python3.11/dist-packages (from rdkit==2023.09.6) (1.26.4)\n",
            "Requirement already satisfied: Pillow in /usr/local/lib/python3.11/dist-packages (from rdkit==2023.09.6) (11.1.0)\n",
            "Downloading rdkit-2023.9.6-cp311-cp311-manylinux_2_17_x86_64.manylinux2014_x86_64.whl (34.9 MB)\n",
            "\u001b[2K   \u001b[90m━━━━━━━━━━━━━━━━━━━━━━━━━━━━━━━━━━━━━━━━\u001b[0m \u001b[32m34.9/34.9 MB\u001b[0m \u001b[31m41.0 MB/s\u001b[0m eta \u001b[36m0:00:00\u001b[0m\n",
            "\u001b[?25hInstalling collected packages: rdkit\n",
            "Successfully installed rdkit-2023.9.6\n"
          ]
        }
      ],
      "source": [
        "# For Google Colaboratory\n",
        "import sys, os\n",
        "if \"google.colab\" in sys.modules:\n",
        "    from google.colab import drive\n",
        "    drive.mount(\"/content/drive/\")\n",
        "    path = \"/content/drive/MyDrive/yanming_dissertation/gtv2/code/\"\n",
        "    os.chdir(path)\n",
        "    !pwd\n",
        "    !pip install dgl==1.0.0\n",
        "    !pip install rdkit==2023.09.6"
      ]
    },
    {
      "cell_type": "code",
      "execution_count": 2,
      "metadata": {
        "colab": {
          "base_uri": "https://localhost:8080/"
        },
        "id": "i2lb5gT0Ut2L",
        "outputId": "64a6ac3c-91e9-4ca1-bd04-67c6079af6dc"
      },
      "outputs": [
        {
          "name": "stderr",
          "output_type": "stream",
          "text": [
            "DGL backend not selected or invalid.  Assuming PyTorch for now.\n"
          ]
        },
        {
          "name": "stdout",
          "output_type": "stream",
          "text": [
            "Setting the default backend to \"pytorch\". You can change it in the ~/.dgl/config.json file or export the DGLBACKEND environment variable.  Valid options are: pytorch, mxnet, tensorflow (all lowercase)\n"
          ]
        }
      ],
      "source": [
        "# Libraries\n",
        "import pickle\n",
        "import matplotlib.pyplot as plt\n",
        "import torch\n",
        "from torch.utils.data import DataLoader\n",
        "import torch.nn as nn\n",
        "import time\n",
        "import networkx as nx\n",
        "import sys; sys.path.insert(0, \"lib/\")\n",
        "from lib.molecules import Dictionary, MoleculeDataset, MoleculeDGL, Molecule, compute_ncut, from_pymol_to_smile\n",
        "import os, datetime\n",
        "from rdkit import Chem\n",
        "from rdkit.Chem import Descriptors\n",
        "from rdkit.Chem import rdmolops\n",
        "from rdkit import RDLogger\n",
        "RDLogger.DisableLog(\"rdApp.*\")\n",
        "import numpy as np\n",
        "import math"
      ]
    },
    {
      "cell_type": "code",
      "execution_count": 3,
      "metadata": {
        "colab": {
          "base_uri": "https://localhost:8080/"
        },
        "id": "_5TrPWZCUt2M",
        "outputId": "70ee8825-ae62-41da-b709-7db82a4a15b7"
      },
      "outputs": [
        {
          "name": "stdout",
          "output_type": "stream",
          "text": [
            "2.5.1+cu124\n",
            "Tesla T4\n",
            "cuda\n"
          ]
        }
      ],
      "source": [
        "# PyTorch version and GPU\n",
        "print(torch.__version__)\n",
        "if torch.cuda.is_available():\n",
        "  print(torch.cuda.get_device_name(0))\n",
        "  device= torch.device(\"cuda\")\n",
        "else:\n",
        "  device= torch.device(\"cpu\")\n",
        "print(device)"
      ]
    },
    {
      "cell_type": "markdown",
      "metadata": {
        "id": "tjqOuIUmUt2M"
      },
      "source": [
        "## Load Dataset"
      ]
    },
    {
      "cell_type": "code",
      "execution_count": null,
      "metadata": {
        "colab": {
          "base_uri": "https://localhost:8080/",
          "height": 566
        },
        "id": "TMSsmWEfUt2N",
        "outputId": "db32a7a7-6187-4a65-f6f0-de72b1ad0d65"
      },
      "outputs": [
        {
          "name": "stdout",
          "output_type": "stream",
          "text": [
            "Loading data...\n",
            "dataset/QM9/\n",
            "Time: 6.1628 sec\n",
            "num train data : 1000\n",
            "atom_dict.idx2word : ['N', 'C', 'O', 'F', 'N H3 +', 'O -', 'C H1 -', 'N +', 'N -']\n",
            "atom_dict.word2idx : {'N': 0, 'C': 1, 'O': 2, 'F': 3, 'N H3 +': 4, 'O -': 5, 'C H1 -': 6, 'N +': 7, 'N -': 8}\n",
            "bond_dict.idx2word : ['NONE', 'SINGLE', 'DOUBLE', 'TRIPLE']\n",
            "bond_dict.word2idx : {'NONE': 0, 'SINGLE': 1, 'DOUBLE': 2, 'TRIPLE': 3}\n",
            "9 4\n",
            "train[idx].atom_type : tensor([1, 1, 1, 2, 1, 1, 2, 1, 1])\n",
            "train[idx].atom_type_pe : tensor([0, 1, 2, 0, 3, 4, 1, 5, 6])\n",
            "train[idx].bond_type : tensor([[0, 1, 0, 0, 0, 0, 0, 0, 0],\n",
            "        [1, 0, 1, 0, 0, 0, 0, 0, 1],\n",
            "        [0, 1, 0, 1, 1, 0, 0, 0, 0],\n",
            "        [0, 0, 1, 0, 0, 0, 0, 0, 0],\n",
            "        [0, 0, 1, 0, 0, 1, 0, 0, 1],\n",
            "        [0, 0, 0, 0, 1, 0, 1, 1, 0],\n",
            "        [0, 0, 0, 0, 0, 1, 0, 0, 0],\n",
            "        [0, 0, 0, 0, 0, 1, 0, 0, 1],\n",
            "        [0, 1, 0, 0, 1, 0, 0, 1, 0]])\n",
            "train[idx].bag_of_atoms : tensor([0, 7, 2, 0, 0, 0, 0, 0, 0])\n",
            "train[idx].smile:  CC1C(O)C2C(O)CC12\n",
            "train[idx].logP_SA tensor([-4.3320])\n"
          ]
        },
        {
          "data": {
            "image/png": "[encoded data removed]",
            "text/plain": [
              "<rdkit.Chem.rdchem.Mol at 0x7c5f2c5c8a50>"
            ]
          },
          "execution_count": 4,
          "metadata": {},
          "output_type": "execute_result"
        }
      ],
      "source": [
        "print(\"Loading data...\")\n",
        "start = time.time()\n",
        "\n",
        "data_folder_pytorch = \"dataset/QM9/\"\n",
        "print(data_folder_pytorch)\n",
        "\n",
        "with open(data_folder_pytorch+\"atom_dict.pkl\",\"rb\") as f:\n",
        "    atom_dict=pickle.load(f)\n",
        "with open(data_folder_pytorch+\"bond_dict.pkl\",\"rb\") as f:\n",
        "    bond_dict=pickle.load(f)\n",
        "with open(data_folder_pytorch+\"train.pkl\",\"rb\") as f:\n",
        "    train=pickle.load(f)\n",
        "with open(data_folder_pytorch+\"val.pkl\",\"rb\") as f:\n",
        "    val=pickle.load(f)\n",
        "with open(data_folder_pytorch+\"test.pkl\",\"rb\") as f:\n",
        "    test=pickle.load(f)\n",
        "\n",
        "print(f\"Time: {time.time() - start:.4f} sec\")\n",
        "\n",
        "print(\"num train data :\", len(train))\n",
        "print(\"num valid data :\", len(val))\n",
        "print(\"num test data :\", len(test))\n",
        "\n",
        "print(\"atom_dict.idx2word :\", atom_dict.idx2word)\n",
        "print(\"atom_dict.word2idx :\", atom_dict.word2idx)\n",
        "print(\"bond_dict.idx2word :\", bond_dict.idx2word)\n",
        "print(\"bond_dict.word2idx :\", bond_dict.word2idx)\n",
        "\n",
        "num_atom_type = len(atom_dict.idx2word)\n",
        "num_bond_type = len(bond_dict.idx2word)\n",
        "print(num_atom_type, num_bond_type)\n",
        "\n",
        "idx = 0\n",
        "print(\"train[idx].atom_type :\", train[idx].atom_type)\n",
        "print(\"train[idx].atom_type_pe :\", train[idx].atom_type_pe)\n",
        "print(\"train[idx].bond_type :\", train[idx].bond_type)\n",
        "print(\"train[idx].bag_of_atoms :\", train[idx].bag_of_atoms)\n",
        "print(\"train[idx].smile: \", train[idx].smile)\n",
        "print(\"train[idx].logP_SA\", train[idx].logP_SA)\n",
        "mol = Chem.MolFromSmiles(train[idx].smile)\n",
        "mol"
      ]
    },
    {
      "cell_type": "markdown",
      "metadata": {
        "id": "xahWlDsLUt2N"
      },
      "source": [
        "## Dataset Statistics\n",
        "\n",
        "### Grouping Molecules by Number of Atoms"
      ]
    },
    {
      "cell_type": "code",
      "execution_count": 5,
      "metadata": {
        "colab": {
          "base_uri": "https://localhost:8080/"
        },
        "id": "MP8msgBsUt2O",
        "outputId": "51a3a769-fcb5-47a9-fb04-3dc87c0db9fd"
      },
      "outputs": [
        {
          "name": "stdout",
          "output_type": "stream",
          "text": [
            "Max num atoms =  9\n",
            "\n",
            "Train\n",
            "number of molecule of size 4: \t 1\n",
            "number of molecule of size 5: \t 1\n",
            "number of molecule of size 6: \t 7\n",
            "number of molecule of size 7: \t 24\n",
            "number of molecule of size 8: \t 136\n",
            "number of molecule of size 9: \t 831\n",
            "Val\n",
            "number of molecule of size 7: \t 6\n",
            "number of molecule of size 8: \t 28\n",
            "number of molecule of size 9: \t 166\n",
            "Test\n",
            "number of molecule of size 6: \t 1\n",
            "number of molecule of size 7: \t 3\n",
            "number of molecule of size 8: \t 37\n",
            "number of molecule of size 9: \t 159\n"
          ]
        }
      ],
      "source": [
        "# Organize data into group of of molecules of fixed sized\n",
        "# Example: train[9] is a list containing all the molecules of size 9\n",
        "def group_molecules_per_size(dataset):\n",
        "    mydict = {}\n",
        "    for mol in dataset:\n",
        "        if len(mol) not in mydict:\n",
        "            mydict[len(mol)] = []\n",
        "        mydict[len(mol)].append(mol)\n",
        "    return mydict\n",
        "\n",
        "test_group  = group_molecules_per_size(test)\n",
        "val_group   = group_molecules_per_size(val)\n",
        "train_group = group_molecules_per_size(train)\n",
        "\n",
        "# The biggest molecule in the train set\n",
        "max_mol_sz= max(list( train_group.keys()))\n",
        "print(\"Max num atoms = \", max_mol_sz)\n",
        "\n",
        "# Print distribution w.r.t. molecule size\n",
        "def print_distribution(data):\n",
        "    for nb_atom in range(max_mol_sz+1):\n",
        "        try:\n",
        "            print(\"number of molecule of size {}: \\t {}\".format(nb_atom, len(data[nb_atom])))\n",
        "        except:\n",
        "            pass\n",
        "\n",
        "print()\n",
        "print(\"Train\"); print_distribution(train_group)\n",
        "print(\"Val\"); print_distribution(val_group)\n",
        "print(\"Test\"); print_distribution(test_group)"
      ]
    },
    {
      "cell_type": "markdown",
      "metadata": {
        "id": "plT8zymcTTzz"
      },
      "source": [
        "### Sampling Molecules from Train Set through Possibility Distribution"
      ]
    },
    {
      "cell_type": "code",
      "execution_count": 6,
      "metadata": {
        "colab": {
          "base_uri": "https://localhost:8080/"
        },
        "id": "vhfcQd-qTTzz",
        "outputId": "26ae8545-775e-4692-b726-e3090d5db7cd"
      },
      "outputs": [
        {
          "name": "stdout",
          "output_type": "stream",
          "text": [
            "sampler_size.num_mol : {9: 831, 8: 136, 7: 24, 6: 7, 5: 1, 4: 1}\n",
            "sz : 8\n"
          ]
        }
      ],
      "source": [
        "class sample_molecule_size:\n",
        "    def __init__(self, organized_dataset):\n",
        "        self.num_mol = {sz: len(list_of_mol) for sz, list_of_mol in organized_dataset.items()}\n",
        "        self.num_batches_remaining = {sz: self.num_mol[sz] for sz in self.num_mol}\n",
        "    def choose_molecule_size(self):\n",
        "        num_batches = self.num_batches_remaining\n",
        "        possible_sizes = np.array( list( num_batches.keys()) )\n",
        "        prob = np.array( list( num_batches.values() )   )\n",
        "        prob = prob / prob.sum()\n",
        "        sz = np.random.choice(  possible_sizes , p=prob )\n",
        "        return sz\n",
        "\n",
        "sampler_size = sample_molecule_size(train_group)\n",
        "print('sampler_size.num_mol :',sampler_size.num_mol)\n",
        "sz = sampler_size.choose_molecule_size()\n",
        "print('sz :',sz)"
      ]
    },
    {
      "cell_type": "markdown",
      "metadata": {
        "id": "0Ynx7hRWUt2O"
      },
      "source": [
        "## Generate Batches\n",
        "\n",
        "### Implement the molecule sampler class for batch sampling of molecules"
      ]
    },
    {
      "cell_type": "code",
      "execution_count": 7,
      "metadata": {
        "id": "mr3fGKBeUt2P"
      },
      "outputs": [],
      "source": [
        "class MoleculeSampler:\n",
        "    def __init__(self, organized_dataset, bs, shuffle=True):\n",
        "        self.bs = bs\n",
        "        self.num_mol =  {sz: len(list_of_mol) for sz, list_of_mol in organized_dataset.items()}\n",
        "        self.counter = {sz: 0   for sz in organized_dataset}\n",
        "        if shuffle:\n",
        "            self.order = {sz: np.random.permutation(num)  for sz , num in self.num_mol.items()}\n",
        "        else:\n",
        "            self.order = {sz: np.arange(num)  for sz , num in self.num_mol.items()}\n",
        "\n",
        "    def compute_num_batches_remaining(self):\n",
        "        return {sz:  math.ceil(((self.num_mol[sz] - self.counter[sz])/self.bs))  for sz in self.num_mol}\n",
        "\n",
        "    def choose_molecule_size(self):\n",
        "        num_batches = self.compute_num_batches_remaining()\n",
        "        possible_sizes = np.array(list(num_batches.keys()))\n",
        "        prob = np.array(list(num_batches.values()))\n",
        "        prob = prob / prob.sum()\n",
        "        sz   = np.random.choice(possible_sizes, p=prob)\n",
        "        return sz\n",
        "\n",
        "    def is_empty(self):\n",
        "        num_batches= self.compute_num_batches_remaining()\n",
        "        return sum(num_batches.values()) == 0\n",
        "\n",
        "    def draw_batch_of_molecules(self, sz):\n",
        "        if (self.num_mol[sz] - self.counter[sz]) / self.bs >= 1.0:\n",
        "            bs = self.bs\n",
        "        else:\n",
        "            bs = self.num_mol[sz] - (self.num_mol[sz] // self.bs) * self.bs\n",
        "        indices = self.order[sz][self.counter[sz]:self.counter[sz] + bs]\n",
        "        self.counter[sz] += bs\n",
        "        return indices"
      ]
    },
    {
      "cell_type": "markdown",
      "metadata": {
        "id": "VPFhgO6UUt2P"
      },
      "source": [
        "### Extract one example mini-batch"
      ]
    },
    {
      "cell_type": "code",
      "execution_count": 8,
      "metadata": {
        "colab": {
          "base_uri": "https://localhost:8080/"
        },
        "id": "lIs10DlGUt2P",
        "outputId": "d9530123-e0a4-45a7-d6b8-5070c026250b"
      },
      "outputs": [
        {
          "name": "stdout",
          "output_type": "stream",
          "text": [
            "sampler.num_mol : {9: 831, 8: 136, 7: 24, 6: 7, 5: 1, 4: 1}\n",
            "num_batches_remaining : {9: 17, 8: 3, 7: 1, 6: 1, 5: 1, 4: 1}\n",
            "sz : 5\n",
            "indices : 1 [0]\n",
            "minibatch_node : torch.Size([1, 5])\n",
            "minibatch_pe : torch.Size([1, 5])\n",
            "minibatch_edge : torch.Size([1, 5, 5])\n",
            "minibatch_boa : torch.Size([1, 9])\n"
          ]
        }
      ],
      "source": [
        "# extract one mini-batch\n",
        "bs = 50\n",
        "sampler = MoleculeSampler(train_group, bs)\n",
        "print('sampler.num_mol :', sampler.num_mol)\n",
        "\n",
        "num_batches_remaining = sampler.compute_num_batches_remaining()\n",
        "print('num_batches_remaining :', num_batches_remaining)\n",
        "sz = sampler.choose_molecule_size()\n",
        "print('sz :', sz)\n",
        "indices = sampler.draw_batch_of_molecules(sz)\n",
        "print('indices :', len(indices), indices)\n",
        "minibatch_node = torch.stack([train_group[sz][i].atom_type for i in indices])\n",
        "print('minibatch_node :', minibatch_node.size())\n",
        "minibatch_pe  = torch.stack([train_group[sz][i].atom_type_pe for i in indices])\n",
        "print('minibatch_pe :', minibatch_pe.size())\n",
        "minibatch_edge = torch.stack([ train_group[sz][i].bond_type for i in indices])\n",
        "print('minibatch_edge :', minibatch_edge.size())\n",
        "minibatch_boa = torch.stack([train_group[sz][i].bag_of_atoms for i in indices])\n",
        "print('minibatch_boa :', minibatch_boa.size())"
      ]
    },
    {
      "cell_type": "markdown",
      "metadata": {
        "id": "WZunx_C9Ut2Q"
      },
      "source": [
        "## DDPM Model\n",
        "\n",
        "### Global Parameters"
      ]
    },
    {
      "cell_type": "code",
      "execution_count": 9,
      "metadata": {
        "colab": {
          "base_uri": "https://localhost:8080/"
        },
        "id": "8Iy7fOuGUt2Q",
        "outputId": "49bca263-3e3a-4cc2-c98d-5c691294585e"
      },
      "outputs": [
        {
          "name": "stdout",
          "output_type": "stream",
          "text": [
            "num_heads, d, num_layers, dPEt, drop, bs :  4 128 6 128 0.0 10\n",
            "beta_1, beta_T, num_t : 0.0001 0.02 150\n",
            "num_warmup : 200\n"
          ]
        }
      ],
      "source": [
        "# Global constants\n",
        "num_heads = 4 # number of heads in the transformer layer\n",
        "d = 32 * num_heads # number of hidden dimensions\n",
        "num_layers = 6 # number of transformer layers\n",
        "dPEt = d # number of dimensions for the time step of the diffusion model\n",
        "drop = 0.0 # dropout value\n",
        "bs = 10 # batch size\n",
        "\n",
        "print('num_heads, d, num_layers, dPEt, drop, bs : ', num_heads, d, num_layers, dPEt, drop, bs)\n",
        "\n",
        "beta_1 = 0.0001 # beta_1 for DM\n",
        "beta_T = 0.02 # beta_T for DM\n",
        "num_t = 150 # number of time steps of the DM\n",
        "alpha_t = 1.0 - torch.linspace(beta_1, beta_T, num_t).to(device) # for DM, size=[num_t]\n",
        "alpha_bar_t = torch.cumprod( alpha_t, dim=0) # for DM, size=[num_t]\n",
        "print('beta_1, beta_T, num_t :', beta_1, beta_T, num_t)\n",
        "\n",
        "# Warmup\n",
        "num_mol_size = 20\n",
        "num_warmup = 2 * max( num_mol_size, len(train) // bs ) # 4 epochs * max( num_mol_size=20, num_mol/batch_size)\n",
        "print('num_warmup :',num_warmup)"
      ]
    },
    {
      "cell_type": "markdown",
      "metadata": {
        "id": "dlpmO2lTUt2S"
      },
      "source": [
        "### Instantiate and test the model"
      ]
    },
    {
      "cell_type": "code",
      "execution_count": 10,
      "metadata": {
        "colab": {
          "base_uri": "https://localhost:8080/"
        },
        "id": "WOUDjIg9Ut2S",
        "outputId": "91e5b36e-1b5a-4ef8-c8b3-250d14da4331"
      },
      "outputs": [
        {
          "name": "stdout",
          "output_type": "stream",
          "text": [
            "Number of parameters: 2767629 (2.77 million)\n"
          ]
        },
        {
          "name": "stderr",
          "output_type": "stream",
          "text": [
            "/usr/local/lib/python3.11/dist-packages/torch/optim/lr_scheduler.py:62: UserWarning: The verbose parameter is deprecated. Please use get_last_lr() to access the learning rate.\n",
            "  warnings.warn(\n"
          ]
        },
        {
          "name": "stdout",
          "output_type": "stream",
          "text": [
            "sampler.num_mol : {9: 831, 8: 136, 7: 24, 6: 7, 5: 1, 4: 1}\n",
            "num_batches_remaining : {9: 84, 8: 14, 7: 3, 6: 1, 5: 1, 4: 1}\n",
            "sz : 5\n",
            "minibatch_node : torch.Size([1, 5])\n",
            "minibatch_edge : torch.Size([1, 5, 5])\n",
            "batch_sample_t torch.Size([1])\n",
            "batch_noise_x_t torch.Size([1, 5, 9]) batch_noise_e_t torch.Size([1, 5, 5, 4])\n",
            "x_t torch.Size([1, 5, 9]) e_t torch.Size([1, 5, 5, 4])\n",
            "noise_pred_x_t torch.Size([1, 5, 9]) noise_pred_e_t torch.Size([1, 5, 5, 4])\n",
            "batch_x_0 torch.Size([4, 9, 9]) batch_e_0 torch.Size([4, 9, 9, 4])\n"
          ]
        }
      ],
      "source": [
        "from models.gtv1 import UNet_vanilla\n",
        "from models.gtv2_weighted import UNet_weighted\n",
        "from models.gtv2_gated import UNet_gated\n",
        "from models.gtv2_mixed import UNet_mixed\n",
        "from models.gtv2_film import UNet_film\n",
        "from models.ddpm import DDPM\n",
        "\n",
        "def sym_tensor(x):\n",
        "    x = x.permute(0,3,1,2) # [bs, d, n, n]\n",
        "    triu = torch.triu(x,diagonal=1).transpose(3,2) # [bs, d, n, n]\n",
        "    mask = (triu.abs()>0).float()                  # [bs, d, n, n]\n",
        "    x =  x * (1 - mask ) + mask * triu             # [bs, d, n, n]\n",
        "    x = x.permute(0,2,3,1) # [bs, n, n, d]\n",
        "    return x               # [bs, n, n, d]\n",
        "\n",
        "# Instantiate the network\n",
        "gt = UNet_film(d, num_heads, num_layers, num_atom_type, num_bond_type, num_t, max_mol_sz, dPEt, device, drop)\n",
        "net = DDPM(num_t, beta_1, beta_T, gt, num_atom_type, num_bond_type, device).to(device)\n",
        "\n",
        "def display_num_param(net):\n",
        "    nb_param = 0\n",
        "    for param in net.parameters():\n",
        "        nb_param += param.numel()\n",
        "    print('Number of parameters: {} ({:.2f} million)'.format(nb_param, nb_param/1e6))\n",
        "    return nb_param/1e6\n",
        "_ = display_num_param(net)\n",
        "\n",
        "# Test the forward pass, backward pass and gradient update with a single batch\n",
        "init_lr = 0.001\n",
        "optimizer = torch.optim.AdamW(net.parameters(), lr=init_lr)\n",
        "scheduler = torch.optim.lr_scheduler.ReduceLROnPlateau(optimizer, mode='min', factor=0.95, patience=1, verbose=True)\n",
        "\n",
        "sampler = MoleculeSampler(train_group, bs)\n",
        "print('sampler.num_mol :',sampler.num_mol)\n",
        "num_batches_remaining = sampler.compute_num_batches_remaining()\n",
        "print('num_batches_remaining :',num_batches_remaining)\n",
        "sz = sampler.choose_molecule_size()\n",
        "print('sz :',sz)\n",
        "indices = sampler.draw_batch_of_molecules(sz)\n",
        "batch_x0 = minibatch_node = torch.stack( [ train_group[sz][i].atom_type for i in indices] ).long().to(device) # [bs, n]\n",
        "print('minibatch_node :',minibatch_node.size())\n",
        "batch_e0 = minibatch_edge = torch.stack( [ train_group[sz][i].bond_type for i in indices] ).long().to(device) # [bs, n, n]\n",
        "print('minibatch_edge :',minibatch_edge.size())\n",
        "batch_sample_t = torch.randint(0, num_t, (batch_x0.size(0),)).long().to(device) # random interger in {0,1,...,T-1} [bs]\n",
        "print('batch_sample_t',batch_sample_t.size())\n",
        "\n",
        "bs2, n = batch_x0.size()\n",
        "batch_noise_x_t = torch.randn(bs2,n,num_atom_type).to(device) # [bs, n, num_atom_type]\n",
        "batch_noise_e_t = torch.randn(bs2,n,n,num_bond_type).to(device) # [bs, n, n, num_bond_type]\n",
        "batch_noise_e_t = sym_tensor(batch_noise_e_t)\n",
        "\n",
        "print('batch_noise_x_t',batch_noise_x_t.size(),'batch_noise_e_t',batch_noise_e_t.size())\n",
        "x_t, e_t = net.forward_process(batch_x0, batch_e0, batch_sample_t, batch_noise_x_t, batch_noise_e_t) # [bs, n], [bs, n, n]\n",
        "print('x_t',x_t.size(), 'e_t',e_t.size())\n",
        "\n",
        "noise_pred_x_t, noise_pred_e_t = net.backward_process(x_t, e_t, batch_sample_t) # [bs, n], [bs, n, n]\n",
        "print('noise_pred_x_t',noise_pred_x_t.size(),'noise_pred_e_t',noise_pred_e_t.size())\n",
        "\n",
        "loss_DDPM = torch.nn.MSELoss()(noise_pred_x_t, batch_noise_x_t) + 1.0* torch.nn.MSELoss()(noise_pred_e_t, batch_noise_e_t)\n",
        "loss = loss_DDPM\n",
        "optimizer.zero_grad()\n",
        "loss.backward()\n",
        "torch.nn.utils.clip_grad_norm_(net.parameters(), 0.25) # grad_norm_clip=1.0\n",
        "optimizer.step()\n",
        "\n",
        "with torch.no_grad():\n",
        "    batch_x_0, batch_e_0 = net.generate_process_ddpm(4, 9)\n",
        "    print('batch_x_0',batch_x_0.size(), 'batch_e_0',batch_e_0.size())\n",
        "\n",
        "del gt, net\n",
        "torch.cuda.empty_cache()"
      ]
    },
    {
      "cell_type": "markdown",
      "metadata": {
        "id": "yVA6tjsjUt2T"
      },
      "source": [
        "## Train And Evaluate The Model\n",
        "\n",
        "### Training Loop"
      ]
    },
    {
      "cell_type": "code",
      "execution_count": 11,
      "metadata": {
        "colab": {
          "base_uri": "https://localhost:8080/"
        },
        "id": "AKhmIjB1Ut2T",
        "outputId": "43b4f301-2dcf-44f0-af63-1ccf7477bd36"
      },
      "outputs": [
        {
          "name": "stdout",
          "output_type": "stream",
          "text": [
            "num_heads, d, num_layers, dPEt, drop, bs :  4 128 6 128 0.0 10\n",
            "beta_1, beta_T, num_t : 0.0001 0.02 150\n",
            "num_warmup, nb_epochs : 200 100\n",
            "epoch= 0 \t time= 0.2392 min \t lr= 0.0001575 \t loss= 2.0997\n",
            "epoch= 1 \t time= 0.4685 min \t lr= 0.0003000 \t loss= 0.8702\n",
            "epoch= 2 \t time= 0.7043 min \t lr= 0.0003000 \t loss= 0.5315\n",
            "epoch= 3 \t time= 0.9366 min \t lr= 0.0003000 \t loss= 0.4405\n",
            "epoch= 4 \t time= 1.1881 min \t lr= 0.0003000 \t loss= 0.3861\n",
            "epoch= 5 \t time= 1.4277 min \t lr= 0.0003000 \t loss= 0.3588\n",
            "epoch= 6 \t time= 1.6611 min \t lr= 0.0003000 \t loss= 0.3345\n",
            "epoch= 7 \t time= 1.8925 min \t lr= 0.0003000 \t loss= 0.3189\n",
            "epoch= 8 \t time= 2.1258 min \t lr= 0.0003000 \t loss= 0.2702\n",
            "epoch= 9 \t time= 2.3538 min \t lr= 0.0003000 \t loss= 0.2557\n",
            "epoch= 10 \t time= 2.5890 min \t lr= 0.0003000 \t loss= 0.2628\n",
            "epoch= 11 \t time= 2.8211 min \t lr= 0.0003000 \t loss= 0.2401\n",
            "epoch= 12 \t time= 3.0495 min \t lr= 0.0003000 \t loss= 0.2071\n",
            "epoch= 13 \t time= 3.2811 min \t lr= 0.0003000 \t loss= 0.2074\n",
            "epoch= 14 \t time= 3.5084 min \t lr= 0.0003000 \t loss= 0.1962\n",
            "epoch= 15 \t time= 3.7412 min \t lr= 0.0003000 \t loss= 0.1882\n",
            "epoch= 16 \t time= 3.9718 min \t lr= 0.0003000 \t loss= 0.1718\n",
            "epoch= 17 \t time= 4.2036 min \t lr= 0.0003000 \t loss= 0.1664\n",
            "epoch= 18 \t time= 4.4351 min \t lr= 0.0003000 \t loss= 0.1634\n",
            "epoch= 19 \t time= 4.6639 min \t lr= 0.0003000 \t loss= 0.1758\n",
            "epoch= 20 \t time= 4.8956 min \t lr= 0.0003000 \t loss= 0.1580\n",
            "epoch= 21 \t time= 5.1238 min \t lr= 0.0003000 \t loss= 0.1647\n",
            "epoch= 22 \t time= 5.3538 min \t lr= 0.0003000 \t loss= 0.1526\n",
            "epoch= 23 \t time= 5.5886 min \t lr= 0.0003000 \t loss= 0.1537\n",
            "epoch= 24 \t time= 5.8170 min \t lr= 0.0002850 \t loss= 0.1560\n",
            "epoch= 25 \t time= 6.0489 min \t lr= 0.0002850 \t loss= 0.1392\n",
            "epoch= 26 \t time= 6.2784 min \t lr= 0.0002850 \t loss= 0.1322\n",
            "epoch= 27 \t time= 6.5078 min \t lr= 0.0002850 \t loss= 0.1388\n",
            "epoch= 28 \t time= 6.7398 min \t lr= 0.0002707 \t loss= 0.1334\n",
            "epoch= 29 \t time= 6.9712 min \t lr= 0.0002707 \t loss= 0.1447\n",
            "epoch= 30 \t time= 7.2006 min \t lr= 0.0002707 \t loss= 0.1283\n",
            "epoch= 31 \t time= 7.4315 min \t lr= 0.0002707 \t loss= 0.1543\n",
            "epoch= 32 \t time= 7.6595 min \t lr= 0.0002572 \t loss= 0.1316\n",
            "epoch= 33 \t time= 7.8907 min \t lr= 0.0002572 \t loss= 0.1201\n",
            "epoch= 34 \t time= 8.1209 min \t lr= 0.0002572 \t loss= 0.1239\n",
            "epoch= 35 \t time= 8.3523 min \t lr= 0.0002444 \t loss= 0.1336\n",
            "epoch= 36 \t time= 8.5855 min \t lr= 0.0002444 \t loss= 0.1211\n",
            "epoch= 37 \t time= 8.8175 min \t lr= 0.0002321 \t loss= 0.1201\n",
            "epoch= 38 \t time= 9.0474 min \t lr= 0.0002321 \t loss= 0.1050\n",
            "epoch= 39 \t time= 9.2835 min \t lr= 0.0002321 \t loss= 0.1134\n",
            "epoch= 40 \t time= 9.5166 min \t lr= 0.0002205 \t loss= 0.1159\n",
            "epoch= 41 \t time= 9.7475 min \t lr= 0.0002205 \t loss= 0.1159\n",
            "epoch= 42 \t time= 9.9818 min \t lr= 0.0002095 \t loss= 0.1137\n",
            "epoch= 43 \t time= 10.2141 min \t lr= 0.0002095 \t loss= 0.1101\n",
            "epoch= 44 \t time= 10.4469 min \t lr= 0.0002095 \t loss= 0.1050\n",
            "epoch= 45 \t time= 10.6819 min \t lr= 0.0002095 \t loss= 0.1018\n",
            "epoch= 46 \t time= 10.9154 min \t lr= 0.0002095 \t loss= 0.1062\n",
            "epoch= 47 \t time= 11.1453 min \t lr= 0.0001990 \t loss= 0.1025\n",
            "epoch= 48 \t time= 11.3786 min \t lr= 0.0001990 \t loss= 0.1028\n",
            "epoch= 49 \t time= 11.6090 min \t lr= 0.0001990 \t loss= 0.0998\n",
            "epoch= 50 \t time= 11.8405 min \t lr= 0.0001990 \t loss= 0.0987\n",
            "epoch= 51 \t time= 12.0715 min \t lr= 0.0001990 \t loss= 0.1003\n",
            "epoch= 52 \t time= 12.3039 min \t lr= 0.0001990 \t loss= 0.0919\n",
            "epoch= 53 \t time= 12.5309 min \t lr= 0.0001990 \t loss= 0.0975\n",
            "epoch= 54 \t time= 12.7646 min \t lr= 0.0001891 \t loss= 0.0993\n",
            "epoch= 55 \t time= 12.9953 min \t lr= 0.0001891 \t loss= 0.0919\n",
            "epoch= 56 \t time= 13.2225 min \t lr= 0.0001891 \t loss= 0.1019\n",
            "epoch= 57 \t time= 13.4527 min \t lr= 0.0001796 \t loss= 0.0974\n",
            "epoch= 58 \t time= 13.6802 min \t lr= 0.0001796 \t loss= 0.1044\n",
            "epoch= 59 \t time= 13.9112 min \t lr= 0.0001706 \t loss= 0.1005\n",
            "epoch= 60 \t time= 14.1402 min \t lr= 0.0001706 \t loss= 0.0972\n",
            "epoch= 61 \t time= 14.3703 min \t lr= 0.0001621 \t loss= 0.0957\n",
            "epoch= 62 \t time= 14.6002 min \t lr= 0.0001621 \t loss= 0.0946\n",
            "epoch= 63 \t time= 14.8305 min \t lr= 0.0001621 \t loss= 0.0868\n",
            "epoch= 64 \t time= 15.0635 min \t lr= 0.0001621 \t loss= 0.0898\n",
            "epoch= 65 \t time= 15.2942 min \t lr= 0.0001621 \t loss= 0.0845\n",
            "epoch= 66 \t time= 15.5280 min \t lr= 0.0001621 \t loss= 0.0880\n",
            "epoch= 67 \t time= 15.7575 min \t lr= 0.0001540 \t loss= 0.0875\n",
            "epoch= 68 \t time= 15.9893 min \t lr= 0.0001540 \t loss= 0.0880\n",
            "epoch= 69 \t time= 16.2201 min \t lr= 0.0001540 \t loss= 0.0835\n",
            "epoch= 70 \t time= 16.4525 min \t lr= 0.0001540 \t loss= 0.0901\n",
            "epoch= 71 \t time= 16.6802 min \t lr= 0.0001463 \t loss= 0.0917\n",
            "epoch= 72 \t time= 16.9125 min \t lr= 0.0001463 \t loss= 0.0864\n",
            "epoch= 73 \t time= 17.1427 min \t lr= 0.0001390 \t loss= 0.0900\n",
            "epoch= 74 \t time= 17.3708 min \t lr= 0.0001390 \t loss= 0.0852\n",
            "epoch= 75 \t time= 17.5990 min \t lr= 0.0001390 \t loss= 0.0812\n",
            "epoch= 76 \t time= 17.8317 min \t lr= 0.0001390 \t loss= 0.0840\n",
            "epoch= 77 \t time= 18.0602 min \t lr= 0.0001390 \t loss= 0.0803\n",
            "epoch= 78 \t time= 18.2935 min \t lr= 0.0001390 \t loss= 0.0770\n",
            "epoch= 79 \t time= 18.5217 min \t lr= 0.0001390 \t loss= 0.0805\n",
            "epoch= 80 \t time= 18.7500 min \t lr= 0.0001320 \t loss= 0.0871\n",
            "epoch= 81 \t time= 18.9801 min \t lr= 0.0001320 \t loss= 0.0814\n",
            "epoch= 82 \t time= 19.2076 min \t lr= 0.0001254 \t loss= 0.0797\n",
            "epoch= 83 \t time= 19.4368 min \t lr= 0.0001254 \t loss= 0.0815\n",
            "epoch= 84 \t time= 19.6670 min \t lr= 0.0001192 \t loss= 0.0791\n",
            "epoch= 85 \t time= 19.8975 min \t lr= 0.0001192 \t loss= 0.0772\n",
            "epoch= 86 \t time= 20.1278 min \t lr= 0.0001132 \t loss= 0.0791\n",
            "epoch= 87 \t time= 20.3563 min \t lr= 0.0001132 \t loss= 0.0866\n",
            "epoch= 88 \t time= 20.5888 min \t lr= 0.0001075 \t loss= 0.0808\n",
            "epoch= 89 \t time= 20.8206 min \t lr= 0.0001075 \t loss= 0.0769\n",
            "epoch= 90 \t time= 21.0506 min \t lr= 0.0001075 \t loss= 0.0851\n",
            "epoch= 91 \t time= 21.2868 min \t lr= 0.0001075 \t loss= 0.0768\n",
            "epoch= 92 \t time= 21.5215 min \t lr= 0.0001075 \t loss= 0.0757\n",
            "epoch= 93 \t time= 21.7522 min \t lr= 0.0001075 \t loss= 0.0804\n",
            "epoch= 94 \t time= 21.9863 min \t lr= 0.0001075 \t loss= 0.0733\n",
            "epoch= 95 \t time= 22.2169 min \t lr= 0.0001075 \t loss= 0.0776\n",
            "epoch= 96 \t time= 22.4488 min \t lr= 0.0001022 \t loss= 0.0752\n",
            "epoch= 97 \t time= 22.6828 min \t lr= 0.0001022 \t loss= 0.0741\n",
            "epoch= 98 \t time= 22.9189 min \t lr= 0.0000971 \t loss= 0.0801\n",
            "epoch= 99 \t time= 23.1486 min \t lr= 0.0000971 \t loss= 0.0798\n"
          ]
        }
      ],
      "source": [
        "# Random seed\n",
        "seed = 0\n",
        "torch.manual_seed(seed)\n",
        "np.random.seed(seed)\n",
        "\n",
        "gt = UNet_film(d, num_heads, num_layers, num_atom_type, num_bond_type, num_t, max_mol_sz, dPEt, device, drop)\n",
        "net = DDPM(num_t, beta_1, beta_T, gt, num_atom_type, num_bond_type, device).to(device)\n",
        "\n",
        "# Optimizer\n",
        "init_lr = 0.0003\n",
        "optimizer = torch.optim.AdamW(net.parameters(), lr=init_lr)\n",
        "scheduler_warmup = torch.optim.lr_scheduler.LambdaLR(optimizer, lr_lambda=lambda t: min((t+1)/num_warmup, 1.0) ) # warmup scheduler\n",
        "scheduler_tracker = torch.optim.lr_scheduler.ReduceLROnPlateau(optimizer, mode='min', factor=0.95, patience=1, verbose=True) # tracker scheduler\n",
        "\n",
        "# Number of mini-batches per epoch\n",
        "nb_epochs = 100\n",
        "num_warmup_batch = 0\n",
        "print('num_heads, d, num_layers, dPEt, drop, bs : ', num_heads, d, num_layers, dPEt, drop, bs)\n",
        "print('beta_1, beta_T, num_t :', beta_1, beta_T, num_t)\n",
        "print('num_warmup, nb_epochs :',num_warmup, nb_epochs)\n",
        "\n",
        "start = time.time()\n",
        "for epoch in range(nb_epochs):\n",
        "    running_loss = 0.0\n",
        "    num_batches = 0\n",
        "    net.train()\n",
        "    sampler = MoleculeSampler(train_group, bs)\n",
        "    count = 0\n",
        "    while(not sampler.is_empty()):\n",
        "        sz = sampler.choose_molecule_size()\n",
        "        indices = sampler.draw_batch_of_molecules(sz)\n",
        "        batch_x0 = torch.stack( [ train_group[sz][i].atom_type for i in indices] ).long().to(device) # [bs, n]\n",
        "        batch_e0 = torch.stack( [ train_group[sz][i].bond_type for i in indices] ).long().to(device) # [bs, n, n]\n",
        "        batch_sample_t = torch.randint(0, num_t, (batch_x0.size(0),)).long().to(device) # random interger in {0,1,...,T-1} [bs]\n",
        "        bs2, n = batch_x0.size()\n",
        "        batch_noise_x_t = torch.randn(bs2,n,num_atom_type).to(device) # [bs, n, num_atom_type]\n",
        "        batch_noise_e_t = torch.randn(bs2,n,n,num_bond_type).to(device) # [bs, n, n, num_bond_type]\n",
        "        batch_noise_e_t = sym_tensor(batch_noise_e_t)\n",
        "        x_t, e_t = net.forward_process(batch_x0, batch_e0, batch_sample_t, batch_noise_x_t, batch_noise_e_t) # [bs, n], [bs, n, n]\n",
        "        noise_pred_x_t, noise_pred_e_t = net.backward_process(x_t, e_t, batch_sample_t) # [bs, n], [bs, n, n]\n",
        "        loss_DDPM = torch.nn.MSELoss()(noise_pred_x_t, batch_noise_x_t) + 1.0* torch.nn.MSELoss()(noise_pred_e_t, batch_noise_e_t)\n",
        "        loss = loss_DDPM\n",
        "        optimizer.zero_grad()\n",
        "        loss.backward()\n",
        "        torch.nn.utils.clip_grad_norm_(net.parameters(), 0.25) # grad_norm_clip=1.0\n",
        "        optimizer.step()\n",
        "        if num_warmup_batch < num_warmup:\n",
        "            scheduler_warmup.step() # warmup scheduler\n",
        "        num_warmup_batch += 1\n",
        "        # Compute stats\n",
        "        running_loss += loss.detach().item()\n",
        "        num_batches += 1\n",
        "    # Average stats\n",
        "    mean_loss = running_loss/ num_batches\n",
        "    if num_warmup_batch >= num_warmup:\n",
        "        scheduler_tracker.step(mean_loss) # tracker scheduler defined w.r.t. loss value\n",
        "    elapsed = (time.time()-start)/60\n",
        "    print('epoch= %d \\t time= %.4f min \\t lr= %.7f \\t loss= %.4f' % (epoch, elapsed, optimizer.param_groups[0]['lr'], mean_loss) )\n",
        "    # Check lr value\n",
        "    if optimizer.param_groups[0]['lr'] < 10**-6:\n",
        "      print(\"\\n lr is equal to min lr -- training stopped\\n\")\n",
        "      break"
      ]
    },
    {
      "cell_type": "markdown",
      "metadata": {
        "id": "1B2I49_iTTz5"
      },
      "source": [
        "### Validity of Generated Molecules"
      ]
    },
    {
      "cell_type": "code",
      "execution_count": 12,
      "metadata": {
        "colab": {
          "base_uri": "https://localhost:8080/"
        },
        "id": "mfB_ABMhTTz5",
        "outputId": "1f893878-c4ce-4310-cd6d-e59456e93188"
      },
      "outputs": [
        {
          "name": "stdout",
          "output_type": "stream",
          "text": [
            "num_atom_sampled : 9\n",
            "num_atom_sampled : 9\n",
            "num_atom_sampled : 9\n",
            "num_atom_sampled : 9\n",
            "num_atom_sampled : 9\n",
            "num_atom_sampled : 9\n",
            "num_atom_sampled : 9\n",
            "num_atom_sampled : 8\n",
            "num_atom_sampled : 8\n",
            "num_atom_sampled : 9\n",
            "percentage of valid molecules\n",
            "num_gen_mol= 1000   time(min)= 0.845   perc valid molecules= 48.1\n"
          ]
        }
      ],
      "source": [
        "# compute percentage of valid molecules\n",
        "def compute_perc_valid_molecules(net, sampler_size, num_gen_mol=1000, num_generated_mols_per_batch=100):\n",
        "    num_batches = num_gen_mol // num_generated_mols_per_batch\n",
        "    num_valid_mol = 0\n",
        "    list_valid_mol = []\n",
        "    list_mol = []\n",
        "    start = time.time()\n",
        "    for idx in range(num_batches):\n",
        "        net.eval()\n",
        "        net.UNet.eval()\n",
        "        with torch.no_grad():\n",
        "            num_atom_sampled = sampler_size.choose_molecule_size() # sample the molecule size\n",
        "            print('num_atom_sampled :',num_atom_sampled)\n",
        "            batch_x_0, batch_e_0 = net.generate_process_ddpm(num_generated_mols_per_batch, num_atom_sampled)\n",
        "            batch_x_0 = torch.max(batch_x_0, dim=2)[1]  # [bs, n]\n",
        "            batch_e_0 = torch.max(batch_e_0, dim=3)[1] # [bs, n, n]\n",
        "            x_hat = batch_x_0.detach().to('cpu')\n",
        "            e_hat = batch_e_0.detach().to('cpu')\n",
        "            for x,e in zip(x_hat,e_hat):\n",
        "                pymol = Molecule(num_atom_sampled, num_atom_type)\n",
        "                pymol.atom_type = x\n",
        "                pymol.bond_type = e\n",
        "                smile = from_pymol_to_smile(pymol, atom_dict, bond_dict)\n",
        "                list_mol.append(smile)\n",
        "                mol = Chem.MolFromSmiles(smile)\n",
        "                if mol is not None:\n",
        "                    list_valid_mol.append(smile)\n",
        "                    num_valid_mol += 1\n",
        "    perc_valid_molecules = 100*num_valid_mol/num_gen_mol\n",
        "    line = 'num_gen_mol= ' + str(num_gen_mol) + '   time(min)= ' + str((time.time()-start)/60)[:5] + '   perc valid molecules= ' + str(perc_valid_molecules)[:6]\n",
        "    return perc_valid_molecules, list_mol, line, list_valid_mol\n",
        "\n",
        "np.random.seed(0)\n",
        "perc_valid_mol, list_mol, line, list_valid_mol = compute_perc_valid_molecules(net, sampler_size)\n",
        "del gt, net\n",
        "torch.cuda.empty_cache()\n",
        "print('percentage of valid molecules')\n",
        "print(line)"
      ]
    },
    {
      "cell_type": "markdown",
      "metadata": {
        "id": "jRfpKdQpTTz5"
      },
      "source": [
        "### Uniqueness of Generated Molecules"
      ]
    },
    {
      "cell_type": "code",
      "execution_count": 13,
      "metadata": {
        "colab": {
          "base_uri": "https://localhost:8080/"
        },
        "id": "F3wb-qX7TTz6",
        "outputId": "092dcf69-90e1-4c5a-9038-29b44f87f154"
      },
      "outputs": [
        {
          "name": "stdout",
          "output_type": "stream",
          "text": [
            "num_generated_mol 1000\n",
            "num_unique_mol, num_mol: 1000 1000\n",
            "perc unique molecules among the generated molecules: 100.0\n"
          ]
        }
      ],
      "source": [
        "print('num_generated_mol',len(list_mol))\n",
        "num_unique_mol = 0\n",
        "for idx,mol in enumerate(list_mol):\n",
        "    list_tmp = list_mol.copy()\n",
        "    list_tmp.pop(idx)\n",
        "    if mol not in list_tmp:\n",
        "        num_unique_mol += 1\n",
        "print('num_unique_mol, num_mol:',num_unique_mol, len(list_mol))\n",
        "perc_unique_mol = 100*num_unique_mol/len(list_mol)\n",
        "print('perc unique molecules among the generated molecules:', str(perc_unique_mol)[:6])"
      ]
    },
    {
      "cell_type": "markdown",
      "metadata": {
        "id": "0ybEWEczUt2T"
      },
      "source": [
        "## Performance Comparison"
      ]
    },
    {
      "cell_type": "markdown",
      "metadata": {
        "id": "CoRPCRfyUt2T"
      },
      "source": [
        "Training was conducted over 100 epochs on a small subset of the QM9 dataset (1,000 training samples and 200 testing samples) with a fixed random seed. The results presented are the mean loss (and standard deviation) from the last 10 epochs, the percentage of valid molecules, the percentage of unique molecules, and the time taken to train the model.\n",
        "\n",
        "\n",
        "|     Network      | Train Loss on QM9  |   Valid   | Unique | Time (min) |\n",
        "| :--------------: | :----------------: | :-------: | :----: | :--------: |\n",
        "|      GTv1       |   0.0798(0.0067)   |   39.2%   | 100.0% |  11.3804   |\n",
        "| GTv2 (Weighted) |   0.0759(0.0023)   |   46.0%   | 99.8%  |  19.7241   |\n",
        "|  GTv2 (Gated)   |   0.0766(0.0026)   |   37.0%   | 100.0% |  22.0124   |\n",
        "|  GTv2 (Mixed)   | **0.0757**(0.0027) |   39.7%   | 100.0  |  20.6671   |\n",
        "|   GTv2 (FiLM)   |   0.0778(0.0034)   | **48.1%** | 100.0% |  23.1486   |"
      ]
    },
    {
      "cell_type": "markdown",
      "metadata": {
        "id": "BFBd8sP5Ut2T"
      },
      "source": [
        "## References\n",
        "\n",
        "1. [Vijay Prakash Dwivedi and Xavier Bresson. \"A generalization of transformer networks to graphs.\" *arXiv preprint arXiv:2012.09699* (2020).](https://arxiv.org/abs/2012.09699)\n",
        "\n",
        "2. [Jonathan Ho, Ajay Jain and Pieter Abbeel. \"Denoising diffusion probabilistic models.\" Advances in neural information processing systems 33 (2020): 6840-6851.](https://proceedings.neurips.cc/paper/2020/hash/4c5bcfec8584af0d967f1ab10179ca4b-Abstract.html)\n",
        "\n",
        "3. [Ethan Perez, Florian Strub, Harm de Vries, Vincent Dumoulin and Aaron Courville. \"Film: Visual reasoning with a general conditioning layer.\" In Proceedings of the AAAI conference on artificial intelligence, vol. 32, no. 1. 2018.](https://ojs.aaai.org/index.php/AAAI/article/view/11671)"
      ]
    },
    {
      "cell_type": "code",
      "execution_count": 13,
      "metadata": {
        "id": "v6bfywqcUt2T"
      },
      "outputs": [],
      "source": []
    }
  ],
  "metadata": {
    "accelerator": "GPU",
    "colab": {
      "gpuType": "T4",
      "provenance": []
    },
    "kernelspec": {
      "display_name": "gtv2",
      "language": "python",
      "name": "python3"
    },
    "language_info": {
      "codemirror_mode": {
        "name": "ipython",
        "version": 3
      },
      "file_extension": ".py",
      "mimetype": "text/x-python",
      "name": "python",
      "nbconvert_exporter": "python",
      "pygments_lexer": "ipython3",
      "version": "3.8.20"
    }
  },
  "nbformat": 4,
  "nbformat_minor": 0
}
