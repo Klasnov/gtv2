{
  "cells": [
    {
      "cell_type": "markdown",
      "metadata": {
        "id": "7ZXhd8FdUt2C"
      },
      "source": [
        "# Task 3: Graph Generation on ZINC Dataset with DDPM\n",
        "\n",
        "\n",
        "This notebook is adapted from the National University of Singapore CS5284 Graph Machine Learning course, the original tutorial code can be found at [here](https://github.com/xbresson/CS5284_2024/blob/main/codes/11_Graph_Generation/code06_solution.ipynb).\n",
        "\n",
        "> Some sections are adapted from the generation of GPT-4o and o3-mini models."
      ]
    },
    {
      "cell_type": "code",
      "execution_count": null,
      "metadata": {
        "colab": {
          "base_uri": "https://localhost:8080/"
        },
        "id": "Gvca_z_VUt2J",
        "outputId": "5be8c108-7381-47d2-d3ae-ac848e252b49"
      },
      "outputs": [
        {
          "name": "stdout",
          "output_type": "stream",
          "text": [
            "Drive already mounted at /content/drive/; to attempt to forcibly remount, call drive.mount(\"/content/drive/\", force_remount=True).\n",
            "/content/drive/MyDrive/gt_v2\n",
            "Requirement already satisfied: dgl==1.0.0 in /usr/local/lib/python3.11/dist-packages (1.0.0)\n",
            "Requirement already satisfied: numpy>=1.14.0 in /usr/local/lib/python3.11/dist-packages (from dgl==1.0.0) (1.26.4)\n",
            "Requirement already satisfied: scipy>=1.1.0 in /usr/local/lib/python3.11/dist-packages (from dgl==1.0.0) (1.13.1)\n",
            "Requirement already satisfied: networkx>=2.1 in /usr/local/lib/python3.11/dist-packages (from dgl==1.0.0) (3.4.2)\n",
            "Requirement already satisfied: requests>=2.19.0 in /usr/local/lib/python3.11/dist-packages (from dgl==1.0.0) (2.32.3)\n",
            "Requirement already satisfied: tqdm in /usr/local/lib/python3.11/dist-packages (from dgl==1.0.0) (4.67.1)\n",
            "Requirement already satisfied: psutil>=5.8.0 in /usr/local/lib/python3.11/dist-packages (from dgl==1.0.0) (5.9.5)\n",
            "Requirement already satisfied: charset-normalizer<4,>=2 in /usr/local/lib/python3.11/dist-packages (from requests>=2.19.0->dgl==1.0.0) (3.4.1)\n",
            "Requirement already satisfied: idna<4,>=2.5 in /usr/local/lib/python3.11/dist-packages (from requests>=2.19.0->dgl==1.0.0) (3.10)\n",
            "Requirement already satisfied: urllib3<3,>=1.21.1 in /usr/local/lib/python3.11/dist-packages (from requests>=2.19.0->dgl==1.0.0) (2.3.0)\n",
            "Requirement already satisfied: certifi>=2017.4.17 in /usr/local/lib/python3.11/dist-packages (from requests>=2.19.0->dgl==1.0.0) (2024.12.14)\n",
            "Requirement already satisfied: rdkit==2023.09.6 in /usr/local/lib/python3.11/dist-packages (2023.9.6)\n",
            "Requirement already satisfied: numpy in /usr/local/lib/python3.11/dist-packages (from rdkit==2023.09.6) (1.26.4)\n",
            "Requirement already satisfied: Pillow in /usr/local/lib/python3.11/dist-packages (from rdkit==2023.09.6) (11.1.0)\n"
          ]
        }
      ],
      "source": [
        "# For Google Colaboratory\n",
        "import sys, os\n",
        "if \"google.colab\" in sys.modules:\n",
        "    from google.colab import drive\n",
        "    drive.mount(\"/content/drive/\")\n",
        "    path = \"/content/drive/MyDrive/yanming_dissertation/gtv2/code/\"\n",
        "    os.chdir(path)\n",
        "    !pwd\n",
        "    !pip install dgl==1.0.0\n",
        "    !pip install rdkit==2023.09.6"
      ]
    },
    {
      "cell_type": "code",
      "execution_count": 2,
      "metadata": {
        "id": "i2lb5gT0Ut2L"
      },
      "outputs": [],
      "source": [
        "# Libraries\n",
        "import pickle\n",
        "import matplotlib.pyplot as plt\n",
        "import torch\n",
        "from torch.utils.data import DataLoader\n",
        "import torch.nn as nn\n",
        "import time\n",
        "import networkx as nx\n",
        "import sys; sys.path.insert(0, \"lib/\")\n",
        "from lib.molecules import Dictionary, MoleculeDataset, MoleculeDGL, Molecule, compute_ncut, from_pymol_to_smile\n",
        "import os, datetime\n",
        "from rdkit import Chem\n",
        "from rdkit.Chem import Descriptors\n",
        "from rdkit.Chem import rdmolops\n",
        "from rdkit import RDLogger\n",
        "RDLogger.DisableLog(\"rdApp.*\")\n",
        "import numpy as np\n",
        "import math"
      ]
    },
    {
      "cell_type": "code",
      "execution_count": 3,
      "metadata": {
        "colab": {
          "base_uri": "https://localhost:8080/"
        },
        "id": "_5TrPWZCUt2M",
        "outputId": "aeba905e-cb0b-4bf8-d807-ecd9a50d2ab0"
      },
      "outputs": [
        {
          "name": "stdout",
          "output_type": "stream",
          "text": [
            "2.5.1+cu124\n",
            "Tesla T4\n",
            "cuda\n"
          ]
        }
      ],
      "source": [
        "# PyTorch version and GPU\n",
        "print(torch.__version__)\n",
        "if torch.cuda.is_available():\n",
        "  print(torch.cuda.get_device_name(0))\n",
        "  device= torch.device(\"cuda\")\n",
        "else:\n",
        "  device= torch.device(\"cpu\")\n",
        "print(device)"
      ]
    },
    {
      "cell_type": "markdown",
      "metadata": {
        "id": "tjqOuIUmUt2M"
      },
      "source": [
        "## Load Dataset"
      ]
    },
    {
      "cell_type": "code",
      "execution_count": 4,
      "metadata": {
        "colab": {
          "base_uri": "https://localhost:8080/",
          "height": 586
        },
        "id": "TMSsmWEfUt2N",
        "outputId": "be3c751f-0956-42f6-a699-143b5245902d"
      },
      "outputs": [
        {
          "name": "stdout",
          "output_type": "stream",
          "text": [
            "Loading data...\n",
            "dataset/ZINC/\n",
            "Time: 1.7459 sec\n",
            "num train data : 2000\n",
            "atom_dict.idx2word : ['C', 'O', 'N', 'F', 'C H1', 'S', 'Cl', 'O -', 'N H1 +', 'Br', 'N H3 +', 'N H2 +', 'N +', 'N -', 'I', 'S -', 'P', 'N H1 -']\n",
            "atom_dict.word2idx : {'C': 0, 'O': 1, 'N': 2, 'F': 3, 'C H1': 4, 'S': 5, 'Cl': 6, 'O -': 7, 'N H1 +': 8, 'Br': 9, 'N H3 +': 10, 'N H2 +': 11, 'N +': 12, 'N -': 13, 'I': 14, 'S -': 15, 'P': 16, 'N H1 -': 17}\n",
            "bond_dict.idx2word : ['NONE', 'SINGLE', 'DOUBLE', 'TRIPLE']\n",
            "bond_dict.word2idx : {'NONE': 0, 'SINGLE': 1, 'DOUBLE': 2, 'TRIPLE': 3}\n",
            "18 4\n",
            "train[idx].atom_type : tensor([0, 0, 0, 0, 0, 0, 0, 2, 2, 0, 2, 0, 0, 0, 0, 0, 2, 0, 0, 0, 0, 0, 0, 0,\n",
            "        0, 0, 0, 0, 0, 1, 2, 0, 5])\n",
            "train[idx].atom_type_pe : tensor([ 0,  1,  2,  3,  4,  5,  6,  0,  1,  7,  2,  8,  9, 10, 11, 12,  3, 13,\n",
            "        14, 15, 16, 17, 18, 19, 20, 21, 22, 23, 24,  0,  4, 25,  0])\n",
            "train[idx].bond_type : tensor([[0, 1, 0,  ..., 0, 0, 0],\n",
            "        [1, 0, 1,  ..., 0, 0, 0],\n",
            "        [0, 1, 0,  ..., 0, 0, 0],\n",
            "        ...,\n",
            "        [0, 0, 0,  ..., 0, 2, 0],\n",
            "        [0, 0, 0,  ..., 2, 0, 1],\n",
            "        [0, 0, 0,  ..., 0, 1, 0]])\n",
            "train[idx].bag_of_atoms : tensor([26,  1,  5,  0,  0,  1,  0,  0,  0,  0,  0,  0,  0,  0,  0,  0,  0,  0])\n",
            "train[idx].smile:  CCCCCCC1=NN2C(=N)C(=CC3=C(C)N(C4=CC=C(C)C=C4C)C(C)=C3)C(=O)N=C2S1\n",
            "train[idx].logP_SA tensor([3.4121])\n"
          ]
        },
        {
          "data": {
            "image/png": "[encoded data removed]",
            "text/plain": [
              "<rdkit.Chem.rdchem.Mol at 0x7ce416977c30>"
            ]
          },
          "execution_count": 4,
          "metadata": {},
          "output_type": "execute_result"
        }
      ],
      "source": [
        "print(\"Loading data...\")\n",
        "start = time.time()\n",
        "\n",
        "data_folder_pytorch = \"dataset/ZINC/\"\n",
        "print(data_folder_pytorch)\n",
        "\n",
        "with open(data_folder_pytorch+\"atom_dict.pkl\",\"rb\") as f:\n",
        "    atom_dict=pickle.load(f)\n",
        "with open(data_folder_pytorch+\"bond_dict.pkl\",\"rb\") as f:\n",
        "    bond_dict=pickle.load(f)\n",
        "with open(data_folder_pytorch+\"train.pkl\",\"rb\") as f:\n",
        "    train=pickle.load(f)\n",
        "with open(data_folder_pytorch+\"val.pkl\",\"rb\") as f:\n",
        "    val=pickle.load(f)\n",
        "with open(data_folder_pytorch+\"test.pkl\",\"rb\") as f:\n",
        "    test=pickle.load(f)\n",
        "\n",
        "print(f\"Time: {time.time() - start:.4f} sec\")\n",
        "\n",
        "print(\"num train data :\", len(train))\n",
        "print(\"atom_dict.idx2word :\", atom_dict.idx2word)\n",
        "print(\"atom_dict.word2idx :\", atom_dict.word2idx)\n",
        "print(\"bond_dict.idx2word :\", bond_dict.idx2word)\n",
        "print(\"bond_dict.word2idx :\", bond_dict.word2idx)\n",
        "\n",
        "num_atom_type = len(atom_dict.idx2word)\n",
        "num_bond_type = len(bond_dict.idx2word)\n",
        "print(num_atom_type, num_bond_type)\n",
        "\n",
        "idx = 0\n",
        "print(\"train[idx].atom_type :\", train[idx].atom_type)\n",
        "print(\"train[idx].atom_type_pe :\", train[idx].atom_type_pe)\n",
        "print(\"train[idx].bond_type :\", train[idx].bond_type)\n",
        "print(\"train[idx].bag_of_atoms :\", train[idx].bag_of_atoms)\n",
        "print(\"train[idx].smile: \", train[idx].smile)\n",
        "print(\"train[idx].logP_SA\", train[idx].logP_SA)\n",
        "mol = Chem.MolFromSmiles(train[idx].smile)\n",
        "mol"
      ]
    },
    {
      "cell_type": "markdown",
      "metadata": {
        "id": "xahWlDsLUt2N"
      },
      "source": [
        "## Dataset Statistics\n",
        "\n",
        "### Grouping Molecules by Number of Atoms"
      ]
    },
    {
      "cell_type": "code",
      "execution_count": 5,
      "metadata": {
        "colab": {
          "base_uri": "https://localhost:8080/"
        },
        "id": "MP8msgBsUt2O",
        "outputId": "97a84160-8f56-4197-bbec-bc241b93d959"
      },
      "outputs": [
        {
          "name": "stdout",
          "output_type": "stream",
          "text": [
            "Max num atoms =  37\n",
            "\n",
            "Train\n",
            "number of molecule of size 7: \t 1\n",
            "number of molecule of size 9: \t 1\n",
            "number of molecule of size 10: \t 2\n",
            "number of molecule of size 11: \t 4\n",
            "number of molecule of size 12: \t 5\n",
            "number of molecule of size 13: \t 17\n",
            "number of molecule of size 14: \t 24\n",
            "number of molecule of size 15: \t 30\n",
            "number of molecule of size 16: \t 51\n",
            "number of molecule of size 17: \t 61\n",
            "number of molecule of size 18: \t 89\n",
            "number of molecule of size 19: \t 107\n",
            "number of molecule of size 20: \t 145\n",
            "number of molecule of size 21: \t 152\n",
            "number of molecule of size 22: \t 159\n",
            "number of molecule of size 23: \t 175\n",
            "number of molecule of size 24: \t 183\n",
            "number of molecule of size 25: \t 169\n",
            "number of molecule of size 26: \t 174\n",
            "number of molecule of size 27: \t 135\n",
            "number of molecule of size 28: \t 85\n",
            "number of molecule of size 29: \t 69\n",
            "number of molecule of size 30: \t 37\n",
            "number of molecule of size 31: \t 44\n",
            "number of molecule of size 32: \t 29\n",
            "number of molecule of size 33: \t 22\n",
            "number of molecule of size 34: \t 13\n",
            "number of molecule of size 35: \t 10\n",
            "number of molecule of size 36: \t 4\n",
            "number of molecule of size 37: \t 3\n",
            "Val\n",
            "number of molecule of size 11: \t 1\n",
            "number of molecule of size 12: \t 1\n",
            "number of molecule of size 13: \t 3\n",
            "number of molecule of size 14: \t 1\n",
            "number of molecule of size 15: \t 5\n",
            "number of molecule of size 16: \t 8\n",
            "number of molecule of size 17: \t 14\n",
            "number of molecule of size 18: \t 8\n",
            "number of molecule of size 19: \t 12\n",
            "number of molecule of size 20: \t 13\n",
            "number of molecule of size 21: \t 14\n",
            "number of molecule of size 22: \t 11\n",
            "number of molecule of size 23: \t 15\n",
            "number of molecule of size 24: \t 25\n",
            "number of molecule of size 25: \t 21\n",
            "number of molecule of size 26: \t 16\n",
            "number of molecule of size 27: \t 6\n",
            "number of molecule of size 28: \t 8\n",
            "number of molecule of size 29: \t 5\n",
            "number of molecule of size 30: \t 5\n",
            "number of molecule of size 31: \t 2\n",
            "number of molecule of size 32: \t 1\n",
            "number of molecule of size 33: \t 2\n",
            "number of molecule of size 34: \t 3\n",
            "Test\n",
            "number of molecule of size 12: \t 1\n",
            "number of molecule of size 13: \t 1\n",
            "number of molecule of size 14: \t 2\n",
            "number of molecule of size 15: \t 5\n",
            "number of molecule of size 16: \t 4\n",
            "number of molecule of size 17: \t 7\n",
            "number of molecule of size 18: \t 16\n",
            "number of molecule of size 19: \t 7\n",
            "number of molecule of size 20: \t 11\n",
            "number of molecule of size 21: \t 17\n",
            "number of molecule of size 22: \t 8\n",
            "number of molecule of size 23: \t 14\n",
            "number of molecule of size 24: \t 21\n",
            "number of molecule of size 25: \t 16\n",
            "number of molecule of size 26: \t 12\n",
            "number of molecule of size 27: \t 21\n",
            "number of molecule of size 28: \t 5\n",
            "number of molecule of size 29: \t 11\n",
            "number of molecule of size 30: \t 3\n",
            "number of molecule of size 31: \t 7\n",
            "number of molecule of size 32: \t 4\n",
            "number of molecule of size 33: \t 4\n",
            "number of molecule of size 34: \t 2\n",
            "number of molecule of size 36: \t 1\n"
          ]
        }
      ],
      "source": [
        "# Organize data into group of of molecules of fixed sized\n",
        "# Example: train[9] is a list containing all the molecules of size 9\n",
        "def group_molecules_per_size(dataset):\n",
        "    mydict = {}\n",
        "    for mol in dataset:\n",
        "        if len(mol) not in mydict:\n",
        "            mydict[len(mol)] = []\n",
        "        mydict[len(mol)].append(mol)\n",
        "    return mydict\n",
        "\n",
        "test_group  = group_molecules_per_size(test)\n",
        "val_group   = group_molecules_per_size(val)\n",
        "train_group = group_molecules_per_size(train)\n",
        "\n",
        "# The biggest molecule in the train set\n",
        "max_mol_sz= max(list( train_group.keys()))\n",
        "print(\"Max num atoms = \", max_mol_sz)\n",
        "\n",
        "# Print distribution w.r.t. molecule size\n",
        "def print_distribution(data):\n",
        "    for nb_atom in range(max_mol_sz+1):\n",
        "        try:\n",
        "            print(\"number of molecule of size {}: \\t {}\".format(nb_atom, len(data[nb_atom])))\n",
        "        except:\n",
        "            pass\n",
        "\n",
        "print()\n",
        "print(\"Train\"); print_distribution(train_group)\n",
        "print(\"Val\"); print_distribution(val_group)\n",
        "print(\"Test\"); print_distribution(test_group)"
      ]
    },
    {
      "cell_type": "markdown",
      "metadata": {
        "id": "x1-8R6gzUq-t"
      },
      "source": [
        "### Sampling Molecules from Train Set through Possibility Distribution"
      ]
    },
    {
      "cell_type": "code",
      "execution_count": 6,
      "metadata": {
        "colab": {
          "base_uri": "https://localhost:8080/"
        },
        "id": "AYDfyD9mUq-u",
        "outputId": "3893f3ac-4460-4729-8e96-c72581bb7fc9"
      },
      "outputs": [
        {
          "name": "stdout",
          "output_type": "stream",
          "text": [
            "sampler_size.num_mol : {33: 22, 18: 89, 26: 174, 16: 51, 32: 29, 22: 159, 34: 13, 27: 135, 23: 175, 20: 145, 25: 169, 28: 85, 24: 183, 19: 107, 29: 69, 14: 24, 36: 4, 21: 152, 31: 44, 17: 61, 30: 37, 11: 4, 12: 5, 13: 17, 35: 10, 15: 30, 37: 3, 7: 1, 10: 2, 9: 1}\n",
            "sz : 17\n"
          ]
        }
      ],
      "source": [
        "class sample_molecule_size:\n",
        "    def __init__(self, organized_dataset):\n",
        "        self.num_mol = {sz: len(list_of_mol) for sz, list_of_mol in organized_dataset.items()}\n",
        "        self.num_batches_remaining = {sz: self.num_mol[sz] for sz in self.num_mol}\n",
        "    def choose_molecule_size(self):\n",
        "        num_batches = self.num_batches_remaining\n",
        "        possible_sizes = np.array( list( num_batches.keys()) )\n",
        "        prob = np.array( list( num_batches.values() )   )\n",
        "        prob = prob / prob.sum()\n",
        "        sz = np.random.choice(  possible_sizes , p=prob )\n",
        "        return sz\n",
        "\n",
        "sampler_size = sample_molecule_size(train_group)\n",
        "print('sampler_size.num_mol :',sampler_size.num_mol)\n",
        "sz = sampler_size.choose_molecule_size()\n",
        "print('sz :',sz)"
      ]
    },
    {
      "cell_type": "markdown",
      "metadata": {
        "id": "0Ynx7hRWUt2O"
      },
      "source": [
        "## Generate Batches\n",
        "\n",
        "### Implement the molecule sampler class for batch sampling of molecules"
      ]
    },
    {
      "cell_type": "code",
      "execution_count": 7,
      "metadata": {
        "id": "mr3fGKBeUt2P"
      },
      "outputs": [],
      "source": [
        "class MoleculeSampler:\n",
        "    def __init__(self, organized_dataset, bs, shuffle=True):\n",
        "        self.bs = bs\n",
        "        self.num_mol =  {sz: len(list_of_mol) for sz, list_of_mol in organized_dataset.items()}\n",
        "        self.counter = {sz: 0   for sz in organized_dataset}\n",
        "        if shuffle:\n",
        "            self.order = {sz: np.random.permutation(num)  for sz , num in self.num_mol.items()}\n",
        "        else:\n",
        "            self.order = {sz: np.arange(num)  for sz , num in self.num_mol.items()}\n",
        "\n",
        "    def compute_num_batches_remaining(self):\n",
        "        return {sz:  math.ceil(((self.num_mol[sz] - self.counter[sz])/self.bs))  for sz in self.num_mol}\n",
        "\n",
        "    def choose_molecule_size(self):\n",
        "        num_batches = self.compute_num_batches_remaining()\n",
        "        possible_sizes = np.array(list(num_batches.keys()))\n",
        "        prob = np.array(list(num_batches.values()))\n",
        "        prob = prob / prob.sum()\n",
        "        sz   = np.random.choice(possible_sizes, p=prob)\n",
        "        return sz\n",
        "\n",
        "    def is_empty(self):\n",
        "        num_batches= self.compute_num_batches_remaining()\n",
        "        return sum(num_batches.values()) == 0\n",
        "\n",
        "    def draw_batch_of_molecules(self, sz):\n",
        "        if (self.num_mol[sz] - self.counter[sz]) / self.bs >= 1.0:\n",
        "            bs = self.bs\n",
        "        else:\n",
        "            bs = self.num_mol[sz] - (self.num_mol[sz] // self.bs) * self.bs\n",
        "        indices = self.order[sz][self.counter[sz]:self.counter[sz] + bs]\n",
        "        self.counter[sz] += bs\n",
        "        return indices"
      ]
    },
    {
      "cell_type": "markdown",
      "metadata": {
        "id": "VPFhgO6UUt2P"
      },
      "source": [
        "### Extract one example mini-batch"
      ]
    },
    {
      "cell_type": "code",
      "execution_count": 8,
      "metadata": {
        "colab": {
          "base_uri": "https://localhost:8080/"
        },
        "id": "lIs10DlGUt2P",
        "outputId": "adbeda5d-fa8e-4a9e-e152-8c61198f56ff"
      },
      "outputs": [
        {
          "name": "stdout",
          "output_type": "stream",
          "text": [
            "sampler.num_mol : {33: 22, 18: 89, 26: 174, 16: 51, 32: 29, 22: 159, 34: 13, 27: 135, 23: 175, 20: 145, 25: 169, 28: 85, 24: 183, 19: 107, 29: 69, 14: 24, 36: 4, 21: 152, 31: 44, 17: 61, 30: 37, 11: 4, 12: 5, 13: 17, 35: 10, 15: 30, 37: 3, 7: 1, 10: 2, 9: 1}\n",
            "num_batches_remaining : {33: 1, 18: 2, 26: 4, 16: 2, 32: 1, 22: 4, 34: 1, 27: 3, 23: 4, 20: 3, 25: 4, 28: 2, 24: 4, 19: 3, 29: 2, 14: 1, 36: 1, 21: 4, 31: 1, 17: 2, 30: 1, 11: 1, 12: 1, 13: 1, 35: 1, 15: 1, 37: 1, 7: 1, 10: 1, 9: 1}\n",
            "sz : 21\n",
            "indices : 50 [ 62  42   5 138 124  79  11 118  24 143  45  64  14  58  57  17  85  98\n",
            "  35  15 110  32  53 123   2 151  96  93  28  22 150 125   4  94 116  99\n",
            "  27  52  78  55  97 141  49  29   7  13 135   3  48  77]\n",
            "minibatch_node : torch.Size([50, 21])\n",
            "minibatch_pe : torch.Size([50, 21])\n",
            "minibatch_edge : torch.Size([50, 21, 21])\n",
            "minibatch_boa : torch.Size([50, 18])\n"
          ]
        }
      ],
      "source": [
        "# extract one mini-batch\n",
        "bs = 50\n",
        "sampler = MoleculeSampler(train_group, bs)\n",
        "print('sampler.num_mol :', sampler.num_mol)\n",
        "\n",
        "num_batches_remaining = sampler.compute_num_batches_remaining()\n",
        "print('num_batches_remaining :', num_batches_remaining)\n",
        "sz = sampler.choose_molecule_size()\n",
        "print('sz :', sz)\n",
        "indices = sampler.draw_batch_of_molecules(sz)\n",
        "print('indices :', len(indices), indices)\n",
        "minibatch_node = torch.stack([train_group[sz][i].atom_type for i in indices])\n",
        "print('minibatch_node :', minibatch_node.size())\n",
        "minibatch_pe  = torch.stack([train_group[sz][i].atom_type_pe for i in indices])\n",
        "print('minibatch_pe :', minibatch_pe.size())\n",
        "minibatch_edge = torch.stack([ train_group[sz][i].bond_type for i in indices])\n",
        "print('minibatch_edge :', minibatch_edge.size())\n",
        "minibatch_boa = torch.stack([train_group[sz][i].bag_of_atoms for i in indices])\n",
        "print('minibatch_boa :', minibatch_boa.size())"
      ]
    },
    {
      "cell_type": "markdown",
      "metadata": {
        "id": "WZunx_C9Ut2Q"
      },
      "source": [
        "## DDPM Model\n",
        "\n",
        "### Global Parameters"
      ]
    },
    {
      "cell_type": "code",
      "execution_count": 9,
      "metadata": {
        "colab": {
          "base_uri": "https://localhost:8080/"
        },
        "id": "8Iy7fOuGUt2Q",
        "outputId": "c72e2bbb-2b0e-4fd7-c5db-683e3416196b"
      },
      "outputs": [
        {
          "name": "stdout",
          "output_type": "stream",
          "text": [
            "num_heads, d, num_layers, dPEt, drop, bs :  4 128 6 128 0.0 10\n",
            "beta_1, beta_T, num_t : 0.0001 0.02 150\n",
            "num_warmup : 400\n"
          ]
        }
      ],
      "source": [
        "# Global constants\n",
        "num_heads = 4 # number of heads in the transformer layer\n",
        "d = 32 * num_heads # number of hidden dimensions\n",
        "num_layers = 6 # number of transformer layers\n",
        "dPEt = d # number of dimensions for the time step of the diffusion model\n",
        "drop = 0.0 # dropout value\n",
        "bs = 10 # batch size\n",
        "\n",
        "print('num_heads, d, num_layers, dPEt, drop, bs : ', num_heads, d, num_layers, dPEt, drop, bs)\n",
        "\n",
        "beta_1 = 0.0001 # beta_1 for DM\n",
        "beta_T = 0.02 # beta_T for DM\n",
        "num_t = 150 # number of time steps of the DM\n",
        "alpha_t = 1.0 - torch.linspace(beta_1, beta_T, num_t).to(device) # for DM, size=[num_t]\n",
        "alpha_bar_t = torch.cumprod( alpha_t, dim=0) # for DM, size=[num_t]\n",
        "print('beta_1, beta_T, num_t :', beta_1, beta_T, num_t)\n",
        "\n",
        "# Warmup\n",
        "num_mol_size = 20\n",
        "num_warmup = 2 * max( num_mol_size, len(train) // bs ) # 4 epochs * max( num_mol_size=20, num_mol/batch_size)\n",
        "print('num_warmup :',num_warmup)"
      ]
    },
    {
      "cell_type": "markdown",
      "metadata": {
        "id": "dlpmO2lTUt2S"
      },
      "source": [
        "### Instantiate and test the model"
      ]
    },
    {
      "cell_type": "code",
      "execution_count": 10,
      "metadata": {
        "colab": {
          "base_uri": "https://localhost:8080/"
        },
        "id": "WOUDjIg9Ut2S",
        "outputId": "9169db24-3f15-40c2-bf00-e5866c77e921"
      },
      "outputs": [
        {
          "name": "stdout",
          "output_type": "stream",
          "text": [
            "Number of parameters: 2773526 (2.77 million)\n"
          ]
        },
        {
          "name": "stderr",
          "output_type": "stream",
          "text": [
            "/usr/local/lib/python3.11/dist-packages/torch/optim/lr_scheduler.py:62: UserWarning: The verbose parameter is deprecated. Please use get_last_lr() to access the learning rate.\n",
            "  warnings.warn(\n"
          ]
        },
        {
          "name": "stdout",
          "output_type": "stream",
          "text": [
            "sampler.num_mol : {33: 22, 18: 89, 26: 174, 16: 51, 32: 29, 22: 159, 34: 13, 27: 135, 23: 175, 20: 145, 25: 169, 28: 85, 24: 183, 19: 107, 29: 69, 14: 24, 36: 4, 21: 152, 31: 44, 17: 61, 30: 37, 11: 4, 12: 5, 13: 17, 35: 10, 15: 30, 37: 3, 7: 1, 10: 2, 9: 1}\n",
            "num_batches_remaining : {33: 3, 18: 9, 26: 18, 16: 6, 32: 3, 22: 16, 34: 2, 27: 14, 23: 18, 20: 15, 25: 17, 28: 9, 24: 19, 19: 11, 29: 7, 14: 3, 36: 1, 21: 16, 31: 5, 17: 7, 30: 4, 11: 1, 12: 1, 13: 2, 35: 1, 15: 3, 37: 1, 7: 1, 10: 1, 9: 1}\n",
            "sz : 21\n",
            "minibatch_node : torch.Size([10, 21])\n",
            "minibatch_edge : torch.Size([10, 21, 21])\n",
            "batch_sample_t torch.Size([10])\n",
            "batch_noise_x_t torch.Size([10, 21, 18]) batch_noise_e_t torch.Size([10, 21, 21, 4])\n",
            "x_t torch.Size([10, 21, 18]) e_t torch.Size([10, 21, 21, 4])\n",
            "noise_pred_x_t torch.Size([10, 21, 18]) noise_pred_e_t torch.Size([10, 21, 21, 4])\n",
            "batch_x_0 torch.Size([4, 9, 18]) batch_e_0 torch.Size([4, 9, 9, 4])\n"
          ]
        }
      ],
      "source": [
        "from models.gtv1 import UNet_vanilla\n",
        "from models.gtv2_weighted import UNet_weighted\n",
        "from models.gtv2_gated import UNet_gated\n",
        "from models.gtv2_mixed import UNet_mixed\n",
        "from models.gtv2_film import UNet_film\n",
        "from models.ddpm import DDPM\n",
        "\n",
        "def sym_tensor(x):\n",
        "    x = x.permute(0,3,1,2) # [bs, d, n, n]\n",
        "    triu = torch.triu(x,diagonal=1).transpose(3,2) # [bs, d, n, n]\n",
        "    mask = (triu.abs()>0).float()                  # [bs, d, n, n]\n",
        "    x =  x * (1 - mask ) + mask * triu             # [bs, d, n, n]\n",
        "    x = x.permute(0,2,3,1) # [bs, n, n, d]\n",
        "    return x               # [bs, n, n, d]\n",
        "\n",
        "# Instantiate the network\n",
        "gt = UNet_film(d, num_heads, num_layers, num_atom_type, num_bond_type, num_t, max_mol_sz, dPEt, device, drop)\n",
        "net = DDPM(num_t, beta_1, beta_T, gt, num_atom_type, num_bond_type, device).to(device)\n",
        "\n",
        "def display_num_param(net):\n",
        "    nb_param = 0\n",
        "    for param in net.parameters():\n",
        "        nb_param += param.numel()\n",
        "    print('Number of parameters: {} ({:.2f} million)'.format(nb_param, nb_param/1e6))\n",
        "    return nb_param/1e6\n",
        "_ = display_num_param(net)\n",
        "\n",
        "# Test the forward pass, backward pass and gradient update with a single batch\n",
        "init_lr = 0.001\n",
        "optimizer = torch.optim.AdamW(net.parameters(), lr=init_lr)\n",
        "scheduler = torch.optim.lr_scheduler.ReduceLROnPlateau(optimizer, mode='min', factor=0.95, patience=1, verbose=True)\n",
        "\n",
        "sampler = MoleculeSampler(train_group, bs)\n",
        "print('sampler.num_mol :',sampler.num_mol)\n",
        "num_batches_remaining = sampler.compute_num_batches_remaining()\n",
        "print('num_batches_remaining :',num_batches_remaining)\n",
        "sz = sampler.choose_molecule_size()\n",
        "print('sz :',sz)\n",
        "indices = sampler.draw_batch_of_molecules(sz)\n",
        "batch_x0 = minibatch_node = torch.stack( [ train_group[sz][i].atom_type for i in indices] ).long().to(device) # [bs, n]\n",
        "print('minibatch_node :',minibatch_node.size())\n",
        "batch_e0 = minibatch_edge = torch.stack( [ train_group[sz][i].bond_type for i in indices] ).long().to(device) # [bs, n, n]\n",
        "print('minibatch_edge :',minibatch_edge.size())\n",
        "batch_sample_t = torch.randint(0, num_t, (batch_x0.size(0),)).long().to(device) # random interger in {0,1,...,T-1} [bs]\n",
        "print('batch_sample_t',batch_sample_t.size())\n",
        "\n",
        "bs2, n = batch_x0.size()\n",
        "batch_noise_x_t = torch.randn(bs2,n,num_atom_type).to(device) # [bs, n, num_atom_type]\n",
        "batch_noise_e_t = torch.randn(bs2,n,n,num_bond_type).to(device) # [bs, n, n, num_bond_type]\n",
        "batch_noise_e_t = sym_tensor(batch_noise_e_t)\n",
        "\n",
        "print('batch_noise_x_t',batch_noise_x_t.size(),'batch_noise_e_t',batch_noise_e_t.size())\n",
        "x_t, e_t = net.forward_process(batch_x0, batch_e0, batch_sample_t, batch_noise_x_t, batch_noise_e_t) # [bs, n], [bs, n, n]\n",
        "print('x_t',x_t.size(), 'e_t',e_t.size())\n",
        "\n",
        "noise_pred_x_t, noise_pred_e_t = net.backward_process(x_t, e_t, batch_sample_t) # [bs, n], [bs, n, n]\n",
        "print('noise_pred_x_t',noise_pred_x_t.size(),'noise_pred_e_t',noise_pred_e_t.size())\n",
        "\n",
        "loss_DDPM = torch.nn.MSELoss()(noise_pred_x_t, batch_noise_x_t) + 1.0* torch.nn.MSELoss()(noise_pred_e_t, batch_noise_e_t)\n",
        "loss = loss_DDPM\n",
        "optimizer.zero_grad()\n",
        "loss.backward()\n",
        "torch.nn.utils.clip_grad_norm_(net.parameters(), 0.25) # grad_norm_clip=1.0\n",
        "optimizer.step()\n",
        "\n",
        "with torch.no_grad():\n",
        "    batch_x_0, batch_e_0 = net.generate_process_ddpm(4, 9)\n",
        "    print('batch_x_0',batch_x_0.size(), 'batch_e_0',batch_e_0.size())\n",
        "\n",
        "del gt, net\n",
        "torch.cuda.empty_cache()"
      ]
    },
    {
      "cell_type": "markdown",
      "metadata": {
        "id": "yVA6tjsjUt2T"
      },
      "source": [
        "## Train And Evaluate The Model\n",
        "\n",
        "### Training Loop"
      ]
    },
    {
      "cell_type": "code",
      "execution_count": 11,
      "metadata": {
        "colab": {
          "base_uri": "https://localhost:8080/"
        },
        "id": "AKhmIjB1Ut2T",
        "outputId": "e5d35177-8e2d-4c7a-b7a2-ba82bb274760"
      },
      "outputs": [
        {
          "name": "stdout",
          "output_type": "stream",
          "text": [
            "num_heads, d, num_layers, dPEt, drop, bs :  4 128 6 128 0.0 10\n",
            "beta_1, beta_T, num_t : 0.0001 0.02 150\n",
            "num_warmup, nb_epochs : 400 50\n",
            "epoch= 0 \t time= 0.4937 min \t lr= 0.0001620 \t loss= 1.8259\n",
            "epoch= 1 \t time= 0.9516 min \t lr= 0.0003000 \t loss= 0.6268\n",
            "epoch= 2 \t time= 1.4222 min \t lr= 0.0003000 \t loss= 0.3511\n",
            "epoch= 3 \t time= 1.8774 min \t lr= 0.0003000 \t loss= 0.2944\n",
            "epoch= 4 \t time= 2.3393 min \t lr= 0.0003000 \t loss= 0.2391\n",
            "epoch= 5 \t time= 2.7957 min \t lr= 0.0003000 \t loss= 0.2061\n",
            "epoch= 6 \t time= 3.2542 min \t lr= 0.0003000 \t loss= 0.1701\n",
            "epoch= 7 \t time= 3.7164 min \t lr= 0.0003000 \t loss= 0.1708\n",
            "epoch= 8 \t time= 4.1747 min \t lr= 0.0003000 \t loss= 0.1464\n",
            "epoch= 9 \t time= 4.6340 min \t lr= 0.0003000 \t loss= 0.1347\n",
            "epoch= 10 \t time= 5.0913 min \t lr= 0.0003000 \t loss= 0.1331\n",
            "epoch= 11 \t time= 5.5543 min \t lr= 0.0003000 \t loss= 0.1192\n",
            "epoch= 12 \t time= 6.0114 min \t lr= 0.0003000 \t loss= 0.1163\n",
            "epoch= 13 \t time= 6.4709 min \t lr= 0.0003000 \t loss= 0.1148\n",
            "epoch= 14 \t time= 6.9319 min \t lr= 0.0003000 \t loss= 0.0981\n",
            "epoch= 15 \t time= 7.3877 min \t lr= 0.0003000 \t loss= 0.1029\n",
            "epoch= 16 \t time= 7.8451 min \t lr= 0.0003000 \t loss= 0.0921\n",
            "epoch= 17 \t time= 8.2989 min \t lr= 0.0003000 \t loss= 0.0889\n",
            "epoch= 18 \t time= 8.7516 min \t lr= 0.0003000 \t loss= 0.0870\n",
            "epoch= 19 \t time= 9.2066 min \t lr= 0.0003000 \t loss= 0.0922\n",
            "epoch= 20 \t time= 9.6654 min \t lr= 0.0002850 \t loss= 0.0908\n",
            "epoch= 21 \t time= 10.1222 min \t lr= 0.0002850 \t loss= 0.0814\n",
            "epoch= 22 \t time= 10.5795 min \t lr= 0.0002850 \t loss= 0.0823\n",
            "epoch= 23 \t time= 11.0599 min \t lr= 0.0002850 \t loss= 0.0777\n",
            "epoch= 24 \t time= 11.5154 min \t lr= 0.0002850 \t loss= 0.0834\n",
            "epoch= 25 \t time= 11.9700 min \t lr= 0.0002850 \t loss= 0.0719\n",
            "epoch= 26 \t time= 12.4278 min \t lr= 0.0002850 \t loss= 0.0767\n",
            "epoch= 27 \t time= 12.8845 min \t lr= 0.0002707 \t loss= 0.0721\n",
            "epoch= 28 \t time= 13.3404 min \t lr= 0.0002707 \t loss= 0.0736\n",
            "epoch= 29 \t time= 13.8001 min \t lr= 0.0002707 \t loss= 0.0712\n",
            "epoch= 30 \t time= 14.2567 min \t lr= 0.0002707 \t loss= 0.0724\n",
            "epoch= 31 \t time= 14.7146 min \t lr= 0.0002707 \t loss= 0.0672\n",
            "epoch= 32 \t time= 15.1755 min \t lr= 0.0002707 \t loss= 0.0673\n",
            "epoch= 33 \t time= 15.6376 min \t lr= 0.0002572 \t loss= 0.0678\n",
            "epoch= 34 \t time= 16.0945 min \t lr= 0.0002572 \t loss= 0.0665\n",
            "epoch= 35 \t time= 16.5511 min \t lr= 0.0002572 \t loss= 0.0635\n",
            "epoch= 36 \t time= 17.0056 min \t lr= 0.0002572 \t loss= 0.0634\n",
            "epoch= 37 \t time= 17.4593 min \t lr= 0.0002572 \t loss= 0.0606\n",
            "epoch= 38 \t time= 17.9162 min \t lr= 0.0002572 \t loss= 0.0609\n",
            "epoch= 39 \t time= 18.3710 min \t lr= 0.0002444 \t loss= 0.0614\n",
            "epoch= 40 \t time= 18.8245 min \t lr= 0.0002444 \t loss= 0.0610\n",
            "epoch= 41 \t time= 19.2799 min \t lr= 0.0002321 \t loss= 0.0643\n",
            "epoch= 42 \t time= 19.7327 min \t lr= 0.0002321 \t loss= 0.0570\n",
            "epoch= 43 \t time= 20.1864 min \t lr= 0.0002321 \t loss= 0.0569\n",
            "epoch= 44 \t time= 20.6423 min \t lr= 0.0002321 \t loss= 0.0600\n",
            "epoch= 45 \t time= 21.1016 min \t lr= 0.0002205 \t loss= 0.0585\n",
            "epoch= 46 \t time= 21.5584 min \t lr= 0.0002205 \t loss= 0.0546\n",
            "epoch= 47 \t time= 22.0243 min \t lr= 0.0002205 \t loss= 0.0543\n",
            "epoch= 48 \t time= 22.4818 min \t lr= 0.0002205 \t loss= 0.0529\n",
            "epoch= 49 \t time= 22.9364 min \t lr= 0.0002205 \t loss= 0.0558\n"
          ]
        }
      ],
      "source": [
        "# Random seed\n",
        "seed = 0\n",
        "torch.manual_seed(seed)\n",
        "np.random.seed(seed)\n",
        "\n",
        "gt = UNet_film(d, num_heads, num_layers, num_atom_type, num_bond_type, num_t, max_mol_sz, dPEt, device, drop)\n",
        "net = DDPM(num_t, beta_1, beta_T, gt, num_atom_type, num_bond_type, device).to(device)\n",
        "\n",
        "# Optimizer\n",
        "init_lr = 0.0003\n",
        "optimizer = torch.optim.AdamW(net.parameters(), lr=init_lr)\n",
        "scheduler_warmup = torch.optim.lr_scheduler.LambdaLR(optimizer, lr_lambda=lambda t: min((t+1)/num_warmup, 1.0) ) # warmup scheduler\n",
        "scheduler_tracker = torch.optim.lr_scheduler.ReduceLROnPlateau(optimizer, mode='min', factor=0.95, patience=1, verbose=True) # tracker scheduler\n",
        "\n",
        "# Number of mini-batches per epoch\n",
        "nb_epochs = 50\n",
        "num_warmup_batch = 0\n",
        "print('num_heads, d, num_layers, dPEt, drop, bs : ', num_heads, d, num_layers, dPEt, drop, bs)\n",
        "print('beta_1, beta_T, num_t :', beta_1, beta_T, num_t)\n",
        "print('num_warmup, nb_epochs :',num_warmup, nb_epochs)\n",
        "\n",
        "start = time.time()\n",
        "for epoch in range(nb_epochs):\n",
        "    running_loss = 0.0\n",
        "    num_batches = 0\n",
        "    net.train()\n",
        "    sampler = MoleculeSampler(train_group, bs)\n",
        "    count = 0\n",
        "    while(not sampler.is_empty()):\n",
        "        sz = sampler.choose_molecule_size()\n",
        "        indices = sampler.draw_batch_of_molecules(sz)\n",
        "        batch_x0 = torch.stack( [ train_group[sz][i].atom_type for i in indices] ).long().to(device) # [bs, n]\n",
        "        batch_e0 = torch.stack( [ train_group[sz][i].bond_type for i in indices] ).long().to(device) # [bs, n, n]\n",
        "        batch_sample_t = torch.randint(0, num_t, (batch_x0.size(0),)).long().to(device) # random interger in {0,1,...,T-1} [bs]\n",
        "        bs2, n = batch_x0.size()\n",
        "        batch_noise_x_t = torch.randn(bs2,n,num_atom_type).to(device) # [bs, n, num_atom_type]\n",
        "        batch_noise_e_t = torch.randn(bs2,n,n,num_bond_type).to(device) # [bs, n, n, num_bond_type]\n",
        "        batch_noise_e_t = sym_tensor(batch_noise_e_t)\n",
        "        x_t, e_t = net.forward_process(batch_x0, batch_e0, batch_sample_t, batch_noise_x_t, batch_noise_e_t) # [bs, n], [bs, n, n]\n",
        "        noise_pred_x_t, noise_pred_e_t = net.backward_process(x_t, e_t, batch_sample_t) # [bs, n], [bs, n, n]\n",
        "        loss_DDPM = torch.nn.MSELoss()(noise_pred_x_t, batch_noise_x_t) + 1.0* torch.nn.MSELoss()(noise_pred_e_t, batch_noise_e_t)\n",
        "        loss = loss_DDPM\n",
        "        optimizer.zero_grad()\n",
        "        loss.backward()\n",
        "        torch.nn.utils.clip_grad_norm_(net.parameters(), 0.25) # grad_norm_clip=1.0\n",
        "        optimizer.step()\n",
        "        if num_warmup_batch < num_warmup:\n",
        "            scheduler_warmup.step() # warmup scheduler\n",
        "        num_warmup_batch += 1\n",
        "        # Compute stats\n",
        "        running_loss += loss.detach().item()\n",
        "        num_batches += 1\n",
        "    # Average stats\n",
        "    mean_loss = running_loss/ num_batches\n",
        "    if num_warmup_batch >= num_warmup:\n",
        "        scheduler_tracker.step(mean_loss) # tracker scheduler defined w.r.t. loss value\n",
        "    elapsed = (time.time()-start)/60\n",
        "    print('epoch= %d \\t time= %.4f min \\t lr= %.7f \\t loss= %.4f' % (epoch, elapsed, optimizer.param_groups[0]['lr'], mean_loss) )\n",
        "    # Check lr value\n",
        "    if optimizer.param_groups[0]['lr'] < 10**-6:\n",
        "      print(\"\\n lr is equal to min lr -- training stopped\\n\")\n",
        "      break"
      ]
    },
    {
      "cell_type": "markdown",
      "metadata": {
        "id": "Es3dyMaVUq_S"
      },
      "source": [
        "### Validity of Generated Molecules"
      ]
    },
    {
      "cell_type": "code",
      "execution_count": 12,
      "metadata": {
        "colab": {
          "base_uri": "https://localhost:8080/"
        },
        "id": "1oXqikewUq_T",
        "outputId": "1162c449-03e3-41f5-ada4-c03e8cc1bc71"
      },
      "outputs": [
        {
          "name": "stdout",
          "output_type": "stream",
          "text": [
            "num_atom_sampled : 25\n",
            "num_atom_sampled : 19\n",
            "num_atom_sampled : 28\n",
            "num_atom_sampled : 25\n",
            "num_atom_sampled : 20\n",
            "num_atom_sampled : 24\n",
            "num_atom_sampled : 20\n",
            "num_atom_sampled : 21\n",
            "num_atom_sampled : 11\n",
            "num_atom_sampled : 23\n",
            "percentage of valid molecules\n",
            "num_gen_mol= 1000   time(min)= 2.616   perc valid molecules= 12.8\n"
          ]
        }
      ],
      "source": [
        "# compute percentage of valid molecules\n",
        "def compute_perc_valid_molecules(net, sampler_size, num_gen_mol=1000, num_generated_mols_per_batch=100):\n",
        "    num_batches = num_gen_mol // num_generated_mols_per_batch\n",
        "    num_valid_mol = 0\n",
        "    list_valid_mol = []\n",
        "    list_mol = []\n",
        "    start = time.time()\n",
        "    for idx in range(num_batches):\n",
        "        net.eval()\n",
        "        net.UNet.eval()\n",
        "        with torch.no_grad():\n",
        "            num_atom_sampled = sampler_size.choose_molecule_size() # sample the molecule size\n",
        "            print('num_atom_sampled :',num_atom_sampled)\n",
        "            batch_x_0, batch_e_0 = net.generate_process_ddpm(num_generated_mols_per_batch, num_atom_sampled)\n",
        "            batch_x_0 = torch.max(batch_x_0, dim=2)[1]  # [bs, n]\n",
        "            batch_e_0 = torch.max(batch_e_0, dim=3)[1] # [bs, n, n]\n",
        "            x_hat = batch_x_0.detach().to('cpu')\n",
        "            e_hat = batch_e_0.detach().to('cpu')\n",
        "            for x,e in zip(x_hat,e_hat):\n",
        "                pymol = Molecule(num_atom_sampled, num_atom_type)\n",
        "                pymol.atom_type = x\n",
        "                pymol.bond_type = e\n",
        "                smile = from_pymol_to_smile(pymol, atom_dict, bond_dict)\n",
        "                list_mol.append(smile)\n",
        "                mol = Chem.MolFromSmiles(smile)\n",
        "                if mol is not None:\n",
        "                    list_valid_mol.append(smile)\n",
        "                    num_valid_mol += 1\n",
        "    perc_valid_molecules = 100*num_valid_mol/num_gen_mol\n",
        "    line = 'num_gen_mol= ' + str(num_gen_mol) + '   time(min)= ' + str((time.time()-start)/60)[:5] + '   perc valid molecules= ' + str(perc_valid_molecules)[:6]\n",
        "    return perc_valid_molecules, list_mol, line, list_valid_mol\n",
        "\n",
        "np.random.seed(0)\n",
        "perc_valid_mol, list_mol, line, list_valid_mol = compute_perc_valid_molecules(net, sampler_size)\n",
        "del gt, net\n",
        "torch.cuda.empty_cache()\n",
        "print('percentage of valid molecules')\n",
        "print(line)"
      ]
    },
    {
      "cell_type": "markdown",
      "metadata": {
        "id": "Q18q0s-iUq_T"
      },
      "source": [
        "### Uniqueness of Generated Molecules"
      ]
    },
    {
      "cell_type": "code",
      "execution_count": 13,
      "metadata": {
        "colab": {
          "base_uri": "https://localhost:8080/"
        },
        "id": "_bzAY21xUq_U",
        "outputId": "6ee794b8-2d51-4991-8cf3-7f8878a20019"
      },
      "outputs": [
        {
          "name": "stdout",
          "output_type": "stream",
          "text": [
            "num_generated_mol 1000\n",
            "num_unique_mol, num_mol: 1000 1000\n",
            "perc unique molecules among the generated molecules: 100.0\n"
          ]
        }
      ],
      "source": [
        "print('num_generated_mol',len(list_mol))\n",
        "num_unique_mol = 0\n",
        "for idx,mol in enumerate(list_mol):\n",
        "    list_tmp = list_mol.copy()\n",
        "    list_tmp.pop(idx)\n",
        "    if mol not in list_tmp:\n",
        "        num_unique_mol += 1\n",
        "print('num_unique_mol, num_mol:',num_unique_mol, len(list_mol))\n",
        "perc_unique_mol = 100*num_unique_mol/len(list_mol)\n",
        "print('perc unique molecules among the generated molecules:', str(perc_unique_mol)[:6])"
      ]
    },
    {
      "cell_type": "markdown",
      "metadata": {
        "id": "0ybEWEczUt2T"
      },
      "source": [
        "## Performance Comparison"
      ]
    },
    {
      "cell_type": "markdown",
      "metadata": {
        "id": "CoRPCRfyUt2T"
      },
      "source": [
        "Training was conducted over 50 epochs on a small subset of the ZINC dataset (2,000 training samples and 200 testing samples) with a fixed random seed. The results presented are the mean loss (and standard deviation) from the last 10 epochs, the percentage of valid molecules, the percentage of unique molecules, and the time taken to train the model.\n",
        "\n",
        "|     Network      | Train Loss on ZINC | Valid | Unique | Time (min) |\n",
        "| :--------------: | :---------------: | :---: | :----: | :--------: |\n",
        "|      GTv1      | 0.0680(0.0042) | 3.8% | 100.0% | 12.4043 |\n",
        "| GTv2 (Weighted) | 0.0622(0.0023) | **14.5%** | 100.0% | 21.6791 |\n",
        "|  GTv2 (Gated)  | 0.0595(0.0022) | 10.4% | 100.0% | 23.2297 |\n",
        "|  GTv2 (Mixed)  | 0.0623(0.0023) | 13.3% | 100.0% | 22.8696 |\n",
        "|   GTv2 (FiLM)   | **0.0575**(0.0033) | 12.8% | 100.0 | 22.9364 |"
      ]
    },
    {
      "cell_type": "markdown",
      "metadata": {
        "id": "BFBd8sP5Ut2T"
      },
      "source": [
        "## References\n",
        "\n",
        "1. [Vijay Prakash Dwivedi and Xavier Bresson. \"A generalization of transformer networks to graphs.\" *arXiv preprint arXiv:2012.09699* (2020).](https://arxiv.org/abs/2012.09699)\n",
        "\n",
        "2. [Jonathan Ho, Ajay Jain and Pieter Abbeel. \"Denoising diffusion probabilistic models.\" Advances in neural information processing systems 33 (2020): 6840-6851.](https://proceedings.neurips.cc/paper/2020/hash/4c5bcfec8584af0d967f1ab10179ca4b-Abstract.html)\n",
        "\n",
        "3. [Ethan Perez, Florian Strub, Harm de Vries, Vincent Dumoulin and Aaron Courville. \"Film: Visual reasoning with a general conditioning layer.\" In Proceedings of the AAAI conference on artificial intelligence, vol. 32, no. 1. 2018.](https://ojs.aaai.org/index.php/AAAI/article/view/11671)"
      ]
    },
    {
      "cell_type": "code",
      "execution_count": 13,
      "metadata": {
        "id": "v6bfywqcUt2T"
      },
      "outputs": [],
      "source": []
    }
  ],
  "metadata": {
    "accelerator": "GPU",
    "colab": {
      "gpuType": "T4",
      "provenance": []
    },
    "kernelspec": {
      "display_name": "gtv2",
      "language": "python",
      "name": "python3"
    },
    "language_info": {
      "codemirror_mode": {
        "name": "ipython",
        "version": 3
      },
      "file_extension": ".py",
      "mimetype": "text/x-python",
      "name": "python",
      "nbconvert_exporter": "python",
      "pygments_lexer": "ipython3",
      "version": "3.8.20"
    }
  },
  "nbformat": 4,
  "nbformat_minor": 0
}
